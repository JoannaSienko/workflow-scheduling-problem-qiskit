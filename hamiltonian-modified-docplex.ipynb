{
 "cells": [
  {
   "cell_type": "markdown",
   "metadata": {},
   "source": [
    "Using DOcplex module to generate Hamiltonian, the machine usage constraint is slightly modified -- value B was set to 15. "
   ]
  },
  {
   "cell_type": "code",
   "execution_count": 1,
   "metadata": {},
   "outputs": [],
   "source": [
    "from qiskit import Aer\n",
    "from qiskit.aqua.algorithms import VQE, ExactEigensolver, QAOA\n",
    "from qiskit.aqua.components.optimizers import SPSA\n",
    "from qiskit.aqua import QuantumInstance\n",
    "from qiskit.aqua import aqua_globals\n",
    "from qiskit.circuit.library import RealAmplitudes\n",
    "from qiskit.visualization import circuit_visualization\n",
    "from docplex.mp.model import Model\n",
    "from qiskit.optimization.applications.ising import docplex\n",
    "# from qiskit import IBMQ\n",
    "# IBMQ.load_account()\n",
    "import numpy as np\n",
    "import csv\n",
    "import json\n",
    "from common import time_matrix, cost_matrix\n",
    "from statistics_3tasks import get_stats_for_result, sample_most_likely"
   ]
  },
  {
   "cell_type": "code",
   "execution_count": 2,
   "metadata": {},
   "outputs": [],
   "source": [
    "M = [2,6]\n",
    "K = [1,4]\n",
    "T = [12, 6, 24]\n",
    "d = 19\n",
    "\n",
    "time_matrix = np.array(time_matrix(M, T))\n",
    "cost_matrix = np.array(cost_matrix(time_matrix, K))\n",
    "n1  = np.shape(cost_matrix)[0]\n",
    "n2 = np.shape(cost_matrix)[1]\n",
    "\n",
    "def createOp(A, B, C):\n",
    "    mdl = Model(name='workflow')\n",
    "    x = {(i, j) : mdl.binary_var(name='x_{0}_{1}'.format(i, j)) for i in range(0, n1) for j in range(0, n2)}\n",
    "    x.update({i : mdl.binary_var(name='x_{0}'.format(i)) for i in range(7, 11)})\n",
    "\n",
    "    workflow_func = mdl.sum(A * cost_matrix[i,j] * x[(i,j)] for i in range(n1) for j in range(n2))\n",
    "\n",
    "    # machine usage constraint\n",
    "    for j in range(n2):\n",
    "        mdl.add_constraint(B * mdl.sum(x[(i,j)] for i in range(n1)) == B)\n",
    "\n",
    "    # time limit constraint\n",
    "    mdl.add_constraint(mdl.sum(C * time_matrix[i, j] * x[(i, j)] for i in range(n1) for j in range(n2))+ 8 * x[7] + 4 * x[8] + 2 * x[9] + x[10] == d * C)\n",
    "    mdl.minimize(workflow_func)\n",
    "    qubitOp, offset = docplex.get_operator(mdl)\n",
    "    return qubitOp"
   ]
  },
  {
   "cell_type": "code",
   "execution_count": 3,
   "metadata": {},
   "outputs": [
    {
     "name": "stdout",
     "output_type": "stream",
     "text": [
      "most likely solution:  (array([1, 0, 0, 0, 1, 1, 1, 0, 0, 0]), 68)\n",
      "optimal:  0\n",
      "correct solutions:  100\n",
      "incorrect solutions:  0\n",
      "correct configs:  2\n"
     ]
    }
   ],
   "source": [
    "write_to_file = False\n",
    "filename = 'results.txt'\n",
    "\n",
    "seed = 1235691\n",
    "aqua_globals.random_seed = seed\n",
    "entanglement='full'\n",
    "\n",
    "A = 1\n",
    "B = 15\n",
    "C = 1\n",
    "reps = 2\n",
    "max_trials = 1000\n",
    "shots = 100\n",
    "\n",
    "qubitOp = createOp(A, B, C)\n",
    "spsa = SPSA(max_trials=max_trials)\n",
    "ry = RealAmplitudes(qubitOp.num_qubits, reps=reps, entanglement=entanglement)\n",
    "vqe = VQE(qubitOp, ry, spsa)\n",
    "# provider= IBMQ.get_provider('ibm-q')\n",
    "backend = Aer.get_backend('qasm_simulator')\n",
    "quantum_instance = QuantumInstance(backend,seed_simulator=seed, seed_transpiler=seed, shots=shots)\n",
    "result = vqe.run(quantum_instance)   \n",
    "state_vector = result['eigenstate']\n",
    "get_stats_for_result(state_vector)\n",
    "\n",
    "if write_to_file:\n",
    "    with open(filename, 'a+') as file:\n",
    "        file.write(json.dumps(state_vector)) \n"
   ]
  }
 ],
 "metadata": {
  "kernelspec": {
   "display_name": "Python 3",
   "language": "python",
   "name": "python3"
  },
  "language_info": {
   "codemirror_mode": {
    "name": "ipython",
    "version": 3
   },
   "file_extension": ".py",
   "mimetype": "text/x-python",
   "name": "python",
   "nbconvert_exporter": "python",
   "pygments_lexer": "ipython3",
   "version": "3.7.6"
  }
 },
 "nbformat": 4,
 "nbformat_minor": 4
}
