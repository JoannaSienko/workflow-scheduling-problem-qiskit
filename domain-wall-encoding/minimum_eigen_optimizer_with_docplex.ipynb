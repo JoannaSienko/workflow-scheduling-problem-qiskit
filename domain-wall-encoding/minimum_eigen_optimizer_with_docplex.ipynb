{
  "nbformat": 4,
  "nbformat_minor": 0,
  "metadata": {
    "colab": {
      "name": "minimum-eigen-optimizer-with-docplex.ipynb",
      "provenance": [],
      "collapsed_sections": [],
      "machine_shape": "hm"
    },
    "kernelspec": {
      "display_name": "Python 3",
      "name": "python3"
    }
  },
  "cells": [
    {
      "cell_type": "code",
      "metadata": {
        "id": "8iFBj0zfqDHF"
      },
      "source": [
        "import numpy as np\r\n",
        "from docplex.mp.model import Model\r\n",
        "from qiskit import BasicAer\r\n",
        "from qiskit.aqua import QuantumInstance\r\n",
        "from qiskit.aqua import aqua_globals\r\n",
        "from qiskit.aqua.algorithms import VQE, NumPyMinimumEigensolver, QAOA, NumPyEigensolver\r\n",
        "from qiskit.aqua.components.optimizers import SPSA\r\n",
        "from qiskit.circuit.library import RealAmplitudes\r\n",
        "from qiskit.optimization import QuadraticProgram\r\n",
        "from qiskit.optimization.algorithms import MinimumEigenOptimizer, RecursiveMinimumEigenOptimizer, \\\r\n",
        "    MinimumEigenOptimizationResult\r\n",
        "from qiskit.optimization.converters import QuadraticProgramToQubo\r\n",
        "from qiskit.optimization.applications.ising import docplex\r\n",
        "import matplotlib.pyplot as plt"
      ],
      "execution_count": 12,
      "outputs": []
    },
    {
      "cell_type": "code",
      "metadata": {
        "id": "6Weyv35il5ac"
      },
      "source": [
        "machines_times = [3, 6, 2]\r\n",
        "machines_costs = [2, 5, 1]\r\n",
        "tasks = [6, 12, 18, 24]\r\n",
        "paths = [[0, 1, 3], [0, 2, 3]]\r\n",
        "d = 14"
      ],
      "execution_count": 13,
      "outputs": []
    },
    {
      "cell_type": "code",
      "metadata": {
        "id": "FcawJFAUklUP"
      },
      "source": [
        "def get_time_matrix():\r\n",
        "    r = []\r\n",
        "    for i in machines_times:\r\n",
        "        tmp = []\r\n",
        "        for j in tasks:\r\n",
        "            tmp.append(j / i)\r\n",
        "        r.append(tmp)\r\n",
        "    return np.array(r)\r\n",
        "\r\n",
        "\r\n",
        "def get_cost_matrix(tasks_execution_times):\r\n",
        "    m = []\r\n",
        "    for i in range(len(tasks_execution_times)):\r\n",
        "        tmp = []\r\n",
        "        for j in tasks_execution_times[i]:\r\n",
        "            tmp.append(machines_costs[i] * j)\r\n",
        "        m.append(tmp)\r\n",
        "    return m"
      ],
      "execution_count": 14,
      "outputs": []
    },
    {
      "cell_type": "code",
      "metadata": {
        "id": "vsguKC4XhGOL"
      },
      "source": [
        "time_matrix = np.array(get_time_matrix())\r\n",
        "cost_matrix = np.array(get_cost_matrix(time_matrix))"
      ],
      "execution_count": 15,
      "outputs": []
    },
    {
      "cell_type": "code",
      "metadata": {
        "colab": {
          "base_uri": "https://localhost:8080/"
        },
        "id": "w10-zz2vhdEp",
        "outputId": "3bc205e5-73ac-4e1c-cfbd-cc4deb7c305b"
      },
      "source": [
        "print(\"Time matrix:\\n {}\".format(time_matrix))"
      ],
      "execution_count": 16,
      "outputs": [
        {
          "output_type": "stream",
          "text": [
            "Time matrix:\n",
            " [[ 2.  4.  6.  8.]\n",
            " [ 1.  2.  3.  4.]\n",
            " [ 3.  6.  9. 12.]]\n"
          ],
          "name": "stdout"
        }
      ]
    },
    {
      "cell_type": "code",
      "metadata": {
        "colab": {
          "base_uri": "https://localhost:8080/"
        },
        "id": "_lsxEuMHhZrh",
        "outputId": "59473a70-6385-4702-9885-a29798110bb8"
      },
      "source": [
        "print(\"Cost matrix:\\n {}\".format(cost_matrix))"
      ],
      "execution_count": 17,
      "outputs": [
        {
          "output_type": "stream",
          "text": [
            "Cost matrix:\n",
            " [[ 4.  8. 12. 16.]\n",
            " [ 5. 10. 15. 20.]\n",
            " [ 3.  6.  9. 12.]]\n"
          ],
          "name": "stdout"
        }
      ]
    },
    {
      "cell_type": "markdown",
      "metadata": {
        "id": "vZRN7hczkixC"
      },
      "source": [
        "\r\n",
        "In this specific situation there are:\r\n",
        "\r\n",
        "\r\n",
        "1.   two qubits for each task: **8 qubits**,\r\n",
        "2.   first path minimum time is *1+2+4=7*. *log2(14-7)=log2(7)*: **3 qubits**,\r\n",
        "3.   second path minimum time is *1+3+4=8*. *log2(14-8)=log2(6)*: **3 qubits**.\r\n",
        "\r\n",
        "\r\n",
        "In total, the model has **14 variables**."
      ]
    },
    {
      "cell_type": "markdown",
      "metadata": {
        "id": "cqDR-_9CjMsV"
      },
      "source": [
        "Model with:\r\n",
        " \r\n",
        "\r\n",
        "1.   13 variables needs 4 GiB of RAM\r\n",
        "2.   14 variables needs 16 GiB of RAM \r\n",
        "3.   15 variables needs 64 GiB of RAM\r\n",
        "\r\n"
      ]
    },
    {
      "cell_type": "code",
      "metadata": {
        "id": "N-StWiujfbok"
      },
      "source": [
        "# Correct only for three machines!\r\n",
        "correct_machines = ['00', '01', '11']\r\n",
        "machine_to_index = {'00': 0, '01': 1, '11': 2}\r\n",
        "\r\n",
        "\r\n",
        "def get_task_subvector(vector, task_index):\r\n",
        "    x = len(machines_costs) - 1  # When 3 machines, then subvector for each task has length of 2.\r\n",
        "    subvector = ''\r\n",
        "    for i in range(2 * task_index, 2 * task_index + x):\r\n",
        "        bit_value = str(int(vector[i]))\r\n",
        "        subvector += bit_value\r\n",
        "    return subvector\r\n",
        "\r\n",
        "\r\n",
        "def solution_vector_correct(vector):\r\n",
        "    for i in range(len(tasks)):\r\n",
        "        if get_task_subvector(vector, i) not in correct_machines:\r\n",
        "            return False\r\n",
        "    return True\r\n",
        "\r\n",
        "\r\n",
        "def execution_times_not_bigger_than_deadline(vector):\r\n",
        "    for path in paths:\r\n",
        "        path_time_sum = 0\r\n",
        "        for task in path:\r\n",
        "            task_machine = machine_to_index.get(get_task_subvector(vector, task))\r\n",
        "            path_time_sum += time_matrix[task_machine, task]\r\n",
        "        if path_time_sum > d:\r\n",
        "            return False\r\n",
        "\r\n",
        "    return True\r\n",
        "\r\n",
        "\r\n",
        "def is_solution_correct(vector):\r\n",
        "    return solution_vector_correct(vector) and execution_times_not_bigger_than_deadline(vector)"
      ],
      "execution_count": 18,
      "outputs": []
    },
    {
      "cell_type": "code",
      "metadata": {
        "id": "yJjzRI1os2A0"
      },
      "source": [
        "def print_solutions_with_inreasing_energy(hamiltonian):\r\n",
        "    eigensolver = NumPyEigensolver(hamiltonian, 100)\r\n",
        "    eigensolver_result  = eigensolver.compute_eigenvalues()\r\n",
        "\r\n",
        "    print(\"Vector\\t\\t\\tEnergy\\t\\t\\tCorrect?\")\r\n",
        "    for eigenstate, eigenvalue in zip(eigensolver_result.eigenstates, eigensolver_result.eigenvalues):\r\n",
        "        eigenstate, = eigenstate.sample().keys()\r\n",
        "        eigenstate = eigenstate[::-1]\r\n",
        "        print(\"{}\\t\\t{}\\t\\t{}\".format(eigenstate, eigenvalue, is_solution_correct(eigenstate)))"
      ],
      "execution_count": 19,
      "outputs": []
    },
    {
      "cell_type": "code",
      "metadata": {
        "id": "NFRfzo4zg70N"
      },
      "source": [
        "def get_quadratic_problem():\r\n",
        "    tasks_count = len(tasks)  \r\n",
        "    machines_count = len(machines_costs) \r\n",
        "\r\n",
        "    mdl = Model(name='workflow')\r\n",
        "    x = {(i, j): mdl.binary_var(name='x_{0}_{1}'.format(i, j)) \r\n",
        "        for i in range(0, tasks_count) for j in range(0, machines_count - 1)}\r\n",
        "\r\n",
        "    objective = mdl.sum(cost_matrix[2, i] * x[(i, 0)]\r\n",
        "                        + cost_matrix[1, i] * (x[(i, 1)] - x[(i, 0)]) ** 2\r\n",
        "                        + cost_matrix[0, i] * (1 - x[(i, 1)]) for i in range(0, tasks_count))\r\n",
        "    mdl.minimize(objective)\r\n",
        "\r\n",
        "    for k in range(0, len(paths)):\r\n",
        "        mdl.add_constraint(mdl.sum([time_matrix[2, i] * x[(i, 0)]\r\n",
        "                                    + time_matrix[1, i] * (x[(i, 1)] - x[(i, 0)])\r\n",
        "                                    + time_matrix[0, i] * (1 - x[(i, 1)])\r\n",
        "                                    for i in paths[k]]) <=  d, \"deadline_path_{}\".format(k))\r\n",
        "        \r\n",
        "    qp = QuadraticProgram()\r\n",
        "    qp.from_docplex(mdl)\r\n",
        "\r\n",
        "    converter = QuadraticProgramToQubo()\r\n",
        "    qubo = converter.convert(qp)\r\n",
        "    H, _ = qubo.to_ising()\r\n",
        "\r\n",
        "    print_solutions_with_inreasing_energy(H)\r\n",
        "\r\n",
        "    return qp"
      ],
      "execution_count": 20,
      "outputs": []
    },
    {
      "cell_type": "code",
      "metadata": {
        "colab": {
          "base_uri": "https://localhost:8080/"
        },
        "id": "2_LOjo1WhKKR",
        "outputId": "fa3e7332-1f56-42ca-b2f3-b9b7cd28b72c"
      },
      "source": [
        "operator = get_quadratic_problem()"
      ],
      "execution_count": 21,
      "outputs": [
        {
          "output_type": "stream",
          "text": [
            "Vector\t\t\tEnergy\t\t\tCorrect?\n",
            "01111101110000\t\t(-53542.5+0j)\t\tTrue\n",
            "11110001100100\t\t(-53541.5+0j)\t\tTrue\n",
            "00110001010010\t\t(-53540.5+0j)\t\tTrue\n",
            "01001101101000\t\t(-53540.5+0j)\t\tTrue\n",
            "01110001110001\t\t(-53539.5+0j)\t\tTrue\n",
            "11000001110100\t\t(-53539.5+0j)\t\tTrue\n",
            "01110001110110\t\t(-53539.5+0j)\t\tTrue\n",
            "00000100000100\t\t(-53539.5+0j)\t\tTrue\n",
            "00000001001010\t\t(-53538.5+0j)\t\tTrue\n",
            "11110101100101\t\t(-53538.5+0j)\t\tTrue\n",
            "01011101111000\t\t(-53538.5+0j)\t\tTrue\n",
            "11010100100000\t\t(-53538.5+0j)\t\tTrue\n",
            "01000100100010\t\t(-53538.5+0j)\t\tTrue\n",
            "00110101010011\t\t(-53537.5+0j)\t\tTrue\n",
            "01000001101110\t\t(-53537.5+0j)\t\tTrue\n",
            "01000001101001\t\t(-53537.5+0j)\t\tTrue\n",
            "00010100010100\t\t(-53537.5+0j)\t\tTrue\n",
            "11010001101100\t\t(-53537.5+0j)\t\tTrue\n",
            "01010100110010\t\t(-53536.5+0j)\t\tTrue\n",
            "00010001011010\t\t(-53536.5+0j)\t\tTrue\n",
            "11000101110101\t\t(-53536.5+0j)\t\tTrue\n",
            "01110101110111\t\t(-53536.5+0j)\t\tTrue\n",
            "01010001111001\t\t(-53535.5+0j)\t\tTrue\n",
            "01010001111110\t\t(-53535.5+0j)\t\tTrue\n",
            "00000101001011\t\t(-53535.5+0j)\t\tTrue\n",
            "01000101101111\t\t(-53534.5+0j)\t\tTrue\n",
            "11010101101101\t\t(-53534.5+0j)\t\tTrue\n",
            "00010101011011\t\t(-53533.5+0j)\t\tTrue\n",
            "01010101111111\t\t(-53532.5+0j)\t\tTrue\n",
            "10110001000000\t\t(-53532.5+0j)\t\tFalse\n",
            "10000001010000\t\t(-53530.5+0j)\t\tFalse\n",
            "10110101000001\t\t(-53529.5+0j)\t\tFalse\n",
            "10110101000110\t\t(-53529.5+0j)\t\tFalse\n",
            "10010001001000\t\t(-53528.5+0j)\t\tFalse\n",
            "10000101010110\t\t(-53527.5+0j)\t\tFalse\n",
            "10000101010001\t\t(-53527.5+0j)\t\tFalse\n",
            "10010101001110\t\t(-53525.5+0j)\t\tFalse\n",
            "10010101001001\t\t(-53525.5+0j)\t\tFalse\n",
            "01101101100000\t\t(-53524.5+0j)\t\tFalse\n",
            "00100001000010\t\t(-53522.5+0j)\t\tFalse\n",
            "01100001100001\t\t(-53521.5+0j)\t\tFalse\n",
            "01100001100110\t\t(-53521.5+0j)\t\tFalse\n",
            "00100101000011\t\t(-53519.5+0j)\t\tFalse\n",
            "01100101100111\t\t(-53518.5+0j)\t\tFalse\n",
            "00111101010000\t\t(-53272.5+0j)\t\tFalse\n",
            "01111101010000\t\t(-53271.5+0j)\t\tTrue\n",
            "01111101001000\t\t(-53271.5+0j)\t\tTrue\n",
            "01111101110100\t\t(-53271.5+0j)\t\tTrue\n",
            "11110001100000\t\t(-53270.5+0j)\t\tTrue\n",
            "11110001010100\t\t(-53270.5+0j)\t\tTrue\n",
            "11110001000100\t\t(-53270.5+0j)\t\tTrue\n",
            "01000000100000\t\t(-53270.5+0j)\t\tFalse\n",
            "11110001100010\t\t(-53270.5+0j)\t\tTrue\n",
            "00001101001000\t\t(-53270.5+0j)\t\tFalse\n",
            "00110001010100\t\t(-53269.5+0j)\t\tTrue\n",
            "01001101101100\t\t(-53269.5+0j)\t\tTrue\n",
            "01110100000010\t\t(-53269.5+0j)\t\tFalse\n",
            "00110001100010\t\t(-53269.5+0j)\t\tTrue\n",
            "00110001110010\t\t(-53269.5+0j)\t\tTrue\n",
            "01001101001000\t\t(-53269.5+0j)\t\tTrue\n",
            "11000100000000\t\t(-53269.5+0j)\t\tFalse\n",
            "00110001010110\t\t(-53269.5+0j)\t\tTrue\n",
            "01001101011000\t\t(-53269.5+0j)\t\tTrue\n",
            "00110001010001\t\t(-53269.5+0j)\t\tTrue\n",
            "01110001010110\t\t(-53268.5+0j)\t\tTrue\n",
            "00000100000000\t\t(-53268.5+0j)\t\tTrue\n",
            "01110001001110\t\t(-53268.5+0j)\t\tTrue\n",
            "00011101011000\t\t(-53268.5+0j)\t\tFalse\n",
            "11000001001100\t\t(-53268.5+0j)\t\tTrue\n",
            "11000001010100\t\t(-53268.5+0j)\t\tTrue\n",
            "01110001010001\t\t(-53268.5+0j)\t\tTrue\n",
            "11000001110000\t\t(-53268.5+0j)\t\tTrue\n",
            "01110001110101\t\t(-53268.5+0j)\t\tTrue\n",
            "01110001001001\t\t(-53268.5+0j)\t\tTrue\n",
            "11000001110010\t\t(-53268.5+0j)\t\tTrue\n",
            "01110001110010\t\t(-53268.5+0j)\t\tTrue\n",
            "00000100000010\t\t(-53268.5+0j)\t\tTrue\n",
            "00000100100100\t\t(-53268.5+0j)\t\tTrue\n",
            "01010000110000\t\t(-53268.5+0j)\t\tFalse\n",
            "01000100100100\t\t(-53267.5+0j)\t\tTrue\n",
            "11110101100110\t\t(-53267.5+0j)\t\tTrue\n",
            "00000001001110\t\t(-53267.5+0j)\t\tTrue\n",
            "11110101010101\t\t(-53267.5+0j)\t\tTrue\n",
            "00000001101010\t\t(-53267.5+0j)\t\tTrue\n",
            "01011101011000\t\t(-53267.5+0j)\t\tTrue\n",
            "00000001110010\t\t(-53267.5+0j)\t\tTrue\n",
            "01000100100001\t\t(-53267.5+0j)\t\tTrue\n",
            "11110101100011\t\t(-53267.5+0j)\t\tTrue\n",
            "11010100000000\t\t(-53267.5+0j)\t\tTrue\n",
            "01011101111100\t\t(-53267.5+0j)\t\tTrue\n",
            "00000001001100\t\t(-53267.5+0j)\t\tTrue\n",
            "11010100010000\t\t(-53267.5+0j)\t\tTrue\n",
            "11110101000101\t\t(-53267.5+0j)\t\tTrue\n",
            "11010100100100\t\t(-53267.5+0j)\t\tTrue\n",
            "01000100000010\t\t(-53267.5+0j)\t\tTrue\n",
            "00000001001001\t\t(-53267.5+0j)\t\tTrue\n",
            "01000100100110\t\t(-53267.5+0j)\t\tTrue\n",
            "01000100010010\t\t(-53267.5+0j)\t\tTrue\n",
            "11110101100001\t\t(-53267.5+0j)\t\tTrue\n",
            "11010001101000\t\t(-53266.5+0j)\t\tTrue\n"
          ],
          "name": "stdout"
        }
      ]
    },
    {
      "cell_type": "code",
      "metadata": {
        "id": "pMRkfXTbhPuH"
      },
      "source": [
        "aqua_globals.random_seed = 10598\r\n",
        "quantum_instance = QuantumInstance(BasicAer.get_backend('statevector_simulator'),\r\n",
        "                                    seed_simulator=aqua_globals.random_seed,\r\n",
        "                                    seed_transpiler=aqua_globals.random_seed)\r\n",
        "reps = 2\r\n",
        "max_trials = 1000\r\n",
        "entanglement = 'full'\r\n",
        "\r\n",
        "exact_mes = NumPyMinimumEigensolver()\r\n",
        "spsa = SPSA(maxiter=max_trials)\r\n",
        "ry = RealAmplitudes(operator.get_num_binary_vars(), reps=reps, entanglement=entanglement)\r\n",
        "vqe_mes = VQE(quantum_instance=quantum_instance, var_form=ry, optimizer=spsa)\r\n",
        "qaoa_mes = QAOA(quantum_instance=quantum_instance, initial_point=[0., 0.])"
      ],
      "execution_count": 22,
      "outputs": []
    },
    {
      "cell_type": "code",
      "metadata": {
        "id": "niqMoFlQfeTm"
      },
      "source": [
        "exact = MinimumEigenOptimizer(exact_mes)\r\n",
        "vqe = MinimumEigenOptimizer(vqe_mes)\r\n",
        "qaoa = MinimumEigenOptimizer(qaoa_mes)\r\n",
        "recursive = RecursiveMinimumEigenOptimizer(min_eigen_optimizer=qaoa, min_num_vars=8, min_num_vars_optimizer=exact)"
      ],
      "execution_count": 23,
      "outputs": []
    },
    {
      "cell_type": "code",
      "metadata": {
        "id": "SSYGdE1bg6Ns"
      },
      "source": [
        "def perform_optimization(optimization, qubit_op, name):\r\n",
        "    result = optimization.solve(qubit_op)\r\n",
        "    print_optimization_output(result, name)\r\n",
        "\r\n",
        "def print_optimization_output(result, solver_name):\r\n",
        "    print(\"------ %s ------\" % solver_name)\r\n",
        "    print(result)\r\n",
        "    print(\"Is the found vector correct? : {}\".format(is_solution_correct(result.x)))\r\n",
        "    if type(result) is MinimumEigenOptimizationResult:\r\n",
        "        print(\"Most probable sample: {}\".format(max(result.samples, key=lambda item: item[2])))     \r\n",
        "        print(\"Lowest energy smple: {}\".format(min(result.samples, key=lambda item: item[1])))\r\n",
        "        print(\"Samples count: {}\\n\\n\".format(len(result.samples)))\r\n",
        "\r\n",
        "        plt.figure(figsize=(20,10))   \r\n",
        "        for vector, energy, _ in result.samples:\r\n",
        "            color = \"green\" if is_solution_correct(vector) else \"red\"\r\n",
        "            plt.axvline(x=energy, color=color)\r\n",
        "        plt.xlabel(\"Energy\")\r\n",
        "        plt.ylabel(\"\")\r\n",
        "        plt.show()"
      ],
      "execution_count": 24,
      "outputs": []
    },
    {
      "cell_type": "code",
      "metadata": {
        "colab": {
          "base_uri": "https://localhost:8080/",
          "height": 823
        },
        "id": "wtHeG0hKgbcp",
        "outputId": "0d32a293-0d8a-4f5e-ebc4-acf50a1c1327"
      },
      "source": [
        "%%time\r\n",
        "perform_optimization(exact, operator, \"Numpy Eigensolver\")"
      ],
      "execution_count": 25,
      "outputs": [
        {
          "output_type": "stream",
          "text": [
            "------ Numpy Eigensolver ------\n",
            "optimal function value: 40.0\n",
            "optimal value: [0. 1. 1. 1. 1. 1. 0. 1.]\n",
            "status: SUCCESS\n",
            "Is the found vector correct? : True\n",
            "Most probable sample: ('01111101110000', 40.0, 1.0)\n",
            "Lowest energy smple: ('01111101110000', 40.0, 1.0)\n",
            "Samples count: 1\n",
            "\n",
            "\n"
          ],
          "name": "stdout"
        },
        {
          "output_type": "display_data",
          "data": {
            "image/png": "[encoded data removed]",
            "text/plain": [
              "<Figure size 1440x720 with 1 Axes>"
            ]
          },
          "metadata": {
            "tags": [],
            "needs_background": "light"
          }
        },
        {
          "output_type": "stream",
          "text": [
            "CPU times: user 494 ms, sys: 313 ms, total: 808 ms\n",
            "Wall time: 492 ms\n"
          ],
          "name": "stdout"
        }
      ]
    },
    {
      "cell_type": "code",
      "metadata": {
        "colab": {
          "base_uri": "https://localhost:8080/",
          "height": 823
        },
        "id": "G9sOVKr_gbgk",
        "outputId": "add785f1-5615-4174-c532-179d0ea4c67c"
      },
      "source": [
        "%%time\r\n",
        "perform_optimization(vqe, operator, \"VQE\")"
      ],
      "execution_count": null,
      "outputs": [
        {
          "output_type": "stream",
          "text": [
            "------ VQE ------\n",
            "optimal function value: 40.0\n",
            "optimal value: [0. 1. 1. 1. 1. 1. 0. 1.]\n",
            "status: SUCCESS\n",
            "Is the found vector correct? : True\n",
            "Most probable sample: ('01110001000110', 2482.0, 0.12819736815666652)\n",
            "Lowest energy smple: ('01111101110000', 40.0, 4.998131716144465e-06)\n",
            "Samples count: 1144\n",
            "\n",
            "\n"
          ],
          "name": "stdout"
        },
        {
          "output_type": "display_data",
          "data": {
            "image/png": "[encoded data removed]",
            "text/plain": [
              "<Figure size 1440x720 with 1 Axes>"
            ]
          },
          "metadata": {
            "tags": [],
            "needs_background": "light"
          }
        },
        {
          "output_type": "stream",
          "text": [
            "CPU times: user 1h 2min 25s, sys: 16min 31s, total: 1h 18min 56s\n",
            "Wall time: 55min 15s\n"
          ],
          "name": "stdout"
        }
      ]
    },
    {
      "cell_type": "code",
      "metadata": {
        "id": "awwxnWbNgahT",
        "colab": {
          "base_uri": "https://localhost:8080/",
          "height": 823
        },
        "outputId": "075a8179-72a0-49c4-ee88-bb842953bd41"
      },
      "source": [
        "%%time\r\n",
        "perform_optimization(qaoa, operator, \"QAOA\")"
      ],
      "execution_count": null,
      "outputs": [
        {
          "output_type": "stream",
          "text": [
            "------ QAOA ------\n",
            "optimal function value: 40.0\n",
            "optimal value: [0. 1. 1. 1. 1. 1. 0. 1.]\n",
            "status: SUCCESS\n",
            "Is the found vector correct? : True\n",
            "Most probable sample: ('01110101001010', 4653.0, 0.0023525615712840404)\n",
            "Lowest energy smple: ('01111101110000', 40.0, 5.062258163994459e-06)\n",
            "Samples count: 14929\n",
            "\n",
            "\n"
          ],
          "name": "stdout"
        },
        {
          "output_type": "display_data",
          "data": {
            "image/png": "[encoded data removed]",
            "text/plain": [
              "<Figure size 1440x720 with 1 Axes>"
            ]
          },
          "metadata": {
            "tags": [],
            "needs_background": "light"
          }
        },
        {
          "output_type": "stream",
          "text": [
            "CPU times: user 16min 15s, sys: 1min 35s, total: 17min 51s\n",
            "Wall time: 16min 50s\n"
          ],
          "name": "stdout"
        }
      ]
    },
    {
      "cell_type": "code",
      "metadata": {
        "id": "dt64oVdqgZVZ",
        "colab": {
          "base_uri": "https://localhost:8080/"
        },
        "outputId": "aa376e4e-8e95-4296-ae43-095127085dff"
      },
      "source": [
        "%%time\r\n",
        "perform_optimization(recursive, operator, \"Recursive\")"
      ],
      "execution_count": 26,
      "outputs": [
        {
          "output_type": "stream",
          "text": [
            "constraint deadline_path_0 is infeasible due to substitution\n"
          ],
          "name": "stderr"
        },
        {
          "output_type": "stream",
          "text": [
            "------ Recursive ------\n",
            "optimal function value: 43.0\n",
            "optimal value: [1. 1. 0. 0. 0. 0. 0. 1.]\n",
            "status: SUCCESS\n",
            "Is the found vector correct? : True\n",
            "CPU times: user 23min 38s, sys: 3min 15s, total: 26min 53s\n",
            "Wall time: 25min 47s\n"
          ],
          "name": "stdout"
        }
      ]
    }
  ]
}