{
 "cells": [
  {
   "cell_type": "code",
   "execution_count": 1,
   "id": "indie-communication",
   "metadata": {},
   "outputs": [],
   "source": [
    "from collections import OrderedDict\n",
    "\n",
    "import numpy as np\n",
    "from docplex.mp.model import Model\n",
    "from qiskit import BasicAer\n",
    "from qiskit.aqua import QuantumInstance\n",
    "from qiskit.aqua import aqua_globals\n",
    "from qiskit.aqua.algorithms import VQE, NumPyMinimumEigensolver, QAOA\n",
    "from qiskit.aqua.components.optimizers import SPSA\n",
    "from qiskit.circuit.library import RealAmplitudes\n",
    "from qiskit.optimization import QuadraticProgram\n",
    "from qiskit.optimization.algorithms import MinimumEigenOptimizer, RecursiveMinimumEigenOptimizer"
   ]
  },
  {
   "cell_type": "code",
   "execution_count": 2,
   "id": "arabic-repository",
   "metadata": {},
   "outputs": [],
   "source": [
    "def get_time_matrix(machines_times, tasks):\n",
    "    r = []\n",
    "    for i in machines_times:\n",
    "        tmp = []\n",
    "        for j in tasks:\n",
    "            tmp.append(j / i)\n",
    "        r.append(tmp)\n",
    "    return np.array(r)\n",
    "\n",
    "\n",
    "def get_cost_matrix(tasks_execution_times, machines_costs):\n",
    "    m = []\n",
    "    for i in range(len(tasks_execution_times)):\n",
    "        tmp = []\n",
    "        for j in tasks_execution_times[i]:\n",
    "            tmp.append(machines_costs[i] * j)\n",
    "        m.append(tmp)\n",
    "    return m"
   ]
  },
  {
   "cell_type": "markdown",
   "id": "light-relative",
   "metadata": {},
   "source": [
    "With 14 or more variables in the model, kernel is breaking down.\n",
    "\n",
    "In this specific situation there are two qubits for each task -> 2*4=8 qubits needed.\n",
    "\n",
    "First path minimum time is 1+2+4=7 log2(11-7)=log2(4) -> 3 qubits needed.\n",
    "\n",
    "Second path minimum time is 1+3+4=8 log2(11-8)=log2(3) -> 2 qubits needed.\n",
    "\n",
    "8+3+2=13 variables and with that number of variables, kernel works (slowly but works)."
   ]
  },
  {
   "cell_type": "markdown",
   "id": "surface-september",
   "metadata": {},
   "source": [
    "   0\n",
    "  / \\\n",
    " /   \\\n",
    " 1    2\n",
    " \\    /\n",
    "  \\  /\n",
    "    3"
   ]
  },
  {
   "cell_type": "code",
   "execution_count": 3,
   "id": "entitled-delta",
   "metadata": {},
   "outputs": [
    {
     "name": "stdout",
     "output_type": "stream",
     "text": [
      "Time matrix:\n",
      " [[ 2.  4.  6.  8.]\n",
      " [ 1.  2.  3.  4.]\n",
      " [ 3.  6.  9. 12.]]\n",
      "Cost matrix:\n",
      " [[ 4.  8. 12. 16.]\n",
      " [ 5. 10. 15. 20.]\n",
      " [ 3.  6.  9. 12.]]\n"
     ]
    }
   ],
   "source": [
    "machines_times = [3, 6, 2]\n",
    "machines_costs = [2, 5, 1]\n",
    "tasks = [6, 12, 18, 24]\n",
    "paths = [[0, 1, 3], [0, 2, 3]]\n",
    "d = 11\n",
    "\n",
    "time_matrix = np.array(get_time_matrix(machines_times, tasks))\n",
    "cost_matrix = np.array(get_cost_matrix(time_matrix, machines_costs))\n",
    "\n",
    "print(\"Time matrix:\\n {}\".format(time_matrix))\n",
    "print(\"Cost matrix:\\n {}\".format(cost_matrix))"
   ]
  },
  {
   "cell_type": "code",
   "execution_count": 4,
   "id": "grand-lover",
   "metadata": {},
   "outputs": [],
   "source": [
    "# Correct only for three machines!\n",
    "correct_machines = ['00', '01', '11']\n",
    "machine_to_index = {'00': 0, '01': 1, '11': 2}\n",
    "\n",
    "def get_task_subvector(vector, task_index):\n",
    "    x = len(machines_costs) - 1  # E.g., when 3 machines, then subvector for each task has length of 2 (domain wall rule).\n",
    "    subvector = ''\n",
    "    for i in range(2 * task_index, 2 * task_index + x):\n",
    "        bit_value = str(int(vector[i]))\n",
    "        subvector += bit_value\n",
    "    return subvector\n",
    "\n",
    "\n",
    "def solution_vector_correct(vector):\n",
    "    for task in range(len(tasks)):\n",
    "        if get_task_subvector(vector, task) not in correct_machines:\n",
    "            return False\n",
    "    return True\n",
    "\n",
    "\n",
    "def execution_times_not_bigger_than_deadline(vector):\n",
    "    for path in paths:\n",
    "        path_time_sum = 0\n",
    "        for task in path:\n",
    "            task_machine = machine_to_index.get(get_task_subvector(vector, task))\n",
    "            path_time_sum += time_matrix[task_machine, task]\n",
    "        if path_time_sum > d:\n",
    "            return False\n",
    "\n",
    "    return True\n",
    "\n",
    "\n",
    "def is_solution_correct(vector):\n",
    "    return solution_vector_correct(vector) and execution_times_not_bigger_than_deadline(vector)"
   ]
  },
  {
   "cell_type": "markdown",
   "id": "center-nebraska",
   "metadata": {},
   "source": [
    "Slack variables are no longer needed. Qiskit is creating them for us. \n",
    "\n",
    "Still we have to remember about the problem not being too big. With >=14 variables, kernel will break down.\n",
    "\n",
    "However maybe there is some workaround? "
   ]
  },
  {
   "cell_type": "code",
   "execution_count": 5,
   "id": "advanced-phenomenon",
   "metadata": {},
   "outputs": [],
   "source": [
    "def get_quadratic_problem():\n",
    "    a = len(tasks)  # Number of tasks.\n",
    "    b = len(machines_costs) - 1  # Size of vector needed to encode the machine number.\n",
    "    \n",
    "    mdl = Model(name='workflow')\n",
    "    x = {(i, j): mdl.binary_var(name='x_{0}_{1}'.format(i, j)) for i in range(0, a) for j in range(0, b)}\n",
    "    \n",
    "    objective = mdl.sum(cost_matrix[2, i] * x[(i, 0)]\n",
    "                        + cost_matrix[1, i] * (x[(i, 1)] - x[(i, 0)]) ** 2\n",
    "                        + cost_matrix[0, i] * (1 - x[(i, 1)]) for i in range(0, a))\n",
    "\n",
    "    mdl.minimize(objective)\n",
    "\n",
    "    for k in range(0, len(paths)):\n",
    "        mdl.add_constraint(mdl.sum([time_matrix[2, i] * x[(i, 0)]\n",
    "                                + time_matrix[1, i] * (x[(i, 1)] - x[(i, 0)])\n",
    "                                + time_matrix[0, i] * (1 - x[(i, 1)])\n",
    "                                for i in paths[k]]) <= d, \"deadline_path_{}\".format(k))\n",
    "\n",
    "    qp = QuadraticProgram()\n",
    "    qp.from_docplex(mdl)\n",
    "    return qp"
   ]
  },
  {
   "cell_type": "code",
   "execution_count": 6,
   "id": "surprised-joining",
   "metadata": {},
   "outputs": [],
   "source": [
    "operator = get_quadratic_problem()"
   ]
  },
  {
   "cell_type": "code",
   "execution_count": 7,
   "id": "developmental-stanley",
   "metadata": {},
   "outputs": [],
   "source": [
    "aqua_globals.random_seed = 10598\n",
    "# Creating two instances just to make sure they are not somehow 'bounded', idk if that makes sense.\n",
    "quantum_instance_vqe = QuantumInstance(BasicAer.get_backend('statevector_simulator'),\n",
    "                                       seed_simulator=aqua_globals.random_seed,\n",
    "                                       seed_transpiler=aqua_globals.random_seed)\n",
    "\n",
    "quantum_instance_qaoa = QuantumInstance(BasicAer.get_backend('statevector_simulator'),\n",
    "                                        seed_simulator=aqua_globals.random_seed,\n",
    "                                        seed_transpiler=aqua_globals.random_seed)\n",
    "\n",
    "exact_mes = NumPyMinimumEigensolver()\n",
    "r_a = RealAmplitudes(operator.get_num_binary_vars(), reps=2, entanglement='full')\n",
    "vqe_mes = VQE(quantum_instance=quantum_instance_vqe, var_form=r_a, optimizer=SPSA(maxiter=1000))\n",
    "qaoa_mes = QAOA(quantum_instance=quantum_instance_qaoa, initial_point=[0., 0.])\n",
    "\n",
    "exact = MinimumEigenOptimizer(exact_mes)  \n",
    "vqe = MinimumEigenOptimizer(vqe_mes)\n",
    "qaoa = MinimumEigenOptimizer(qaoa_mes) \n",
    "recursive = RecursiveMinimumEigenOptimizer(min_eigen_optimizer=qaoa, min_num_vars=6, min_num_vars_optimizer=qaoa)"
   ]
  },
  {
   "cell_type": "code",
   "execution_count": 8,
   "id": "subject-grade",
   "metadata": {},
   "outputs": [],
   "source": [
    "def perform_optimization(optimization, qubitOp, name):\n",
    "    result = optimization.solve(qubitOp)\n",
    "    print_optimization_output(result, name)"
   ]
  },
  {
   "cell_type": "code",
   "execution_count": 9,
   "id": "dedicated-drinking",
   "metadata": {},
   "outputs": [],
   "source": [
    "def print_optimization_output(result, solver_name):\n",
    "    print(\"------ %s ------\" % solver_name)\n",
    "    print(result)\n",
    "    print(\"Is the found vector correct?: {}\".format(is_solution_correct(result.x)))\n",
    "    print(\"Most probable sample: {}\".format(max(result.samples, key=lambda item: item[2])))\n",
    "    print(\"Samples count: {}\".format(len(result.samples)))"
   ]
  },
  {
   "cell_type": "code",
   "execution_count": 10,
   "id": "spoken-duplicate",
   "metadata": {},
   "outputs": [
    {
     "name": "stdout",
     "output_type": "stream",
     "text": [
      "------ Numpy Eigensolver ------\n",
      "optimal function value: 43.0\n",
      "optimal value: [0. 1. 1. 1. 0. 0. 0. 1.]\n",
      "status: SUCCESS\n",
      "Is the found vector correct?: True\n",
      "Most probable sample: ('0111000100000', 43.0, 1.0)\n",
      "Samples count: 1\n"
     ]
    }
   ],
   "source": [
    "perform_optimization(exact, operator, \"Numpy Eigensolver\")"
   ]
  },
  {
   "cell_type": "code",
   "execution_count": 11,
   "id": "ceramic-sterling",
   "metadata": {},
   "outputs": [
    {
     "name": "stdout",
     "output_type": "stream",
     "text": [
      "------ VQE ------\n",
      "optimal function value: 43.0\n",
      "optimal value: [0. 1. 1. 1. 0. 0. 0. 1.]\n",
      "status: SUCCESS\n",
      "Is the found vector correct?: True\n",
      "Most probable sample: ('0001010100100', 2217.0, 0.17378811282069348)\n",
      "Samples count: 867\n"
     ]
    }
   ],
   "source": [
    "perform_optimization(vqe, operator, \"VQE\")"
   ]
  },
  {
   "cell_type": "code",
   "execution_count": 12,
   "id": "indonesian-legislature",
   "metadata": {},
   "outputs": [
    {
     "name": "stdout",
     "output_type": "stream",
     "text": [
      "------ QAOA ------\n",
      "optimal function value: 43.0\n",
      "optimal value: [0. 1. 1. 1. 0. 0. 0. 1.]\n",
      "status: SUCCESS\n",
      "Is the found vector correct?: True\n",
      "Most probable sample: ('1010010100000', 6846.0, 0.0001220703125000005)\n",
      "Samples count: 8192\n"
     ]
    }
   ],
   "source": [
    "perform_optimization(qaoa, operator, \"QAOA\")"
   ]
  },
  {
   "cell_type": "code",
   "execution_count": null,
   "id": "grateful-constant",
   "metadata": {},
   "outputs": [],
   "source": [
    "perform_optimization(recursive, operator, \"Recursive\")"
   ]
  },
  {
   "cell_type": "code",
   "execution_count": null,
   "id": "periodic-payroll",
   "metadata": {},
   "outputs": [],
   "source": []
  }
 ],
 "metadata": {
  "kernelspec": {
   "display_name": "Python 3",
   "language": "python",
   "name": "python3"
  }
 },
 "nbformat": 4,
 "nbformat_minor": 5
}
