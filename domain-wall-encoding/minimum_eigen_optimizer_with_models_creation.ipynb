{
  "nbformat": 4,
  "nbformat_minor": 0,
  "metadata": {
    "colab": {
      "name": "minimum-eigen-optimizer-with-manual-creation .ipynb",
      "provenance": [],
      "collapsed_sections": [],
      "machine_shape": "hm"
    },
    "kernelspec": {
      "display_name": "Python 3",
      "name": "python3"
    }
  },
  "cells": [
    {
      "cell_type": "code",
      "metadata": {
        "id": "8iFBj0zfqDHF"
      },
      "source": [
        "import numpy as np\r\n",
        "from docplex.mp.model import Model\r\n",
        "from qiskit import BasicAer\r\n",
        "from qiskit.aqua import QuantumInstance\r\n",
        "from qiskit.aqua import aqua_globals\r\n",
        "from qiskit.aqua.algorithms import VQE, NumPyMinimumEigensolver, NumPyEigensolver, QAOA\r\n",
        "from qiskit.aqua.components.optimizers import SPSA\r\n",
        "from qiskit.circuit.library import RealAmplitudes\r\n",
        "from qiskit.optimization import QuadraticProgram\r\n",
        "from qiskit.optimization.algorithms import MinimumEigenOptimizer, RecursiveMinimumEigenOptimizer, \\\r\n",
        "    MinimumEigenOptimizationResult\r\n",
        "import matplotlib.pyplot as plt"
      ],
      "execution_count": 84,
      "outputs": []
    },
    {
      "cell_type": "code",
      "metadata": {
        "id": "6Weyv35il5ac"
      },
      "source": [
        "machines_times = [3, 6, 2]\r\n",
        "machines_costs = [2, 5, 1]\r\n",
        "tasks = [6, 12, 18, 24]\r\n",
        "paths = [[0, 1, 3], [0, 2, 3]]\r\n",
        "d = 14"
      ],
      "execution_count": 85,
      "outputs": []
    },
    {
      "cell_type": "code",
      "metadata": {
        "id": "FcawJFAUklUP"
      },
      "source": [
        "def get_time_matrix():\r\n",
        "    r = []\r\n",
        "    for i in machines_times:\r\n",
        "        tmp = []\r\n",
        "        for j in tasks:\r\n",
        "            tmp.append(j / i)\r\n",
        "        r.append(tmp)\r\n",
        "    return np.array(r)\r\n",
        "\r\n",
        "\r\n",
        "def get_cost_matrix(tasks_execution_times):\r\n",
        "    m = []\r\n",
        "    for i in range(len(tasks_execution_times)):\r\n",
        "        tmp = []\r\n",
        "        for j in tasks_execution_times[i]:\r\n",
        "            tmp.append(machines_costs[i] * j)\r\n",
        "        m.append(tmp)\r\n",
        "    return m"
      ],
      "execution_count": 86,
      "outputs": []
    },
    {
      "cell_type": "code",
      "metadata": {
        "id": "vsguKC4XhGOL"
      },
      "source": [
        "time_matrix = np.array(get_time_matrix())\r\n",
        "cost_matrix = np.array(get_cost_matrix(time_matrix))"
      ],
      "execution_count": 87,
      "outputs": []
    },
    {
      "cell_type": "code",
      "metadata": {
        "colab": {
          "base_uri": "https://localhost:8080/"
        },
        "id": "w10-zz2vhdEp",
        "outputId": "8d347aba-0b38-48c1-9258-dc01dc93352f"
      },
      "source": [
        "print(\"Time matrix:\\n {}\".format(time_matrix))"
      ],
      "execution_count": 88,
      "outputs": [
        {
          "output_type": "stream",
          "text": [
            "Time matrix:\n",
            " [[ 2.  4.  6.  8.]\n",
            " [ 1.  2.  3.  4.]\n",
            " [ 3.  6.  9. 12.]]\n"
          ],
          "name": "stdout"
        }
      ]
    },
    {
      "cell_type": "code",
      "metadata": {
        "colab": {
          "base_uri": "https://localhost:8080/"
        },
        "id": "_lsxEuMHhZrh",
        "outputId": "75c2e29b-4f77-41b7-b428-f07c2f944fbc"
      },
      "source": [
        "print(\"Cost matrix:\\n {}\".format(cost_matrix))"
      ],
      "execution_count": 89,
      "outputs": [
        {
          "output_type": "stream",
          "text": [
            "Cost matrix:\n",
            " [[ 4.  8. 12. 16.]\n",
            " [ 5. 10. 15. 20.]\n",
            " [ 3.  6.  9. 12.]]\n"
          ],
          "name": "stdout"
        }
      ]
    },
    {
      "cell_type": "markdown",
      "metadata": {
        "id": "vZRN7hczkixC"
      },
      "source": [
        "\r\n",
        "In this specific situation there are:\r\n",
        "\r\n",
        "\r\n",
        "1.   two qubits for each task: **8 qubits**,\r\n",
        "2.   first path minimum time is *1+2+4=7*. *log2(14-7)=log2(7)*: **3 qubits**,\r\n",
        "3.   second path minimum time is *1+3+4=8*. *log2(14-8)=log2(6)*: **3 qubits**.\r\n",
        "\r\n",
        "\r\n",
        "In total, the model has **14 variables**."
      ]
    },
    {
      "cell_type": "markdown",
      "metadata": {
        "id": "cqDR-_9CjMsV"
      },
      "source": [
        "Model with:\r\n",
        " \r\n",
        "\r\n",
        "1.   13 variables needs 4 GiB of RAM\r\n",
        "2.   14 variables needs 16 GiB of RAM \r\n",
        "3.   15 variables needs 64 GiB of RAM\r\n",
        "\r\n"
      ]
    },
    {
      "cell_type": "code",
      "metadata": {
        "id": "HqAPO6pDj5JG"
      },
      "source": [
        "tasks_count = len(tasks)\r\n",
        "machines_count = len(machines_costs)\r\n",
        "qubits_count = tasks_count * (machines_count - 1)\r\n",
        "slack_per_path_count = [3, 3] # Correct only for that specific problem\r\n",
        "slacks_count = sum(slack_per_path_count)"
      ],
      "execution_count": 90,
      "outputs": []
    },
    {
      "cell_type": "code",
      "metadata": {
        "id": "N-StWiujfbok"
      },
      "source": [
        "# Correct only for three machines!\r\n",
        "correct_machines = ['00', '01', '11']\r\n",
        "machine_to_index = {'00': 0, '01': 1, '11': 2}\r\n",
        "\r\n",
        "\r\n",
        "def get_task_subvector(vector, task_index):\r\n",
        "    x = len(machines_costs) - 1  # When 3 machines, then subvector for each task has length of 2.\r\n",
        "    subvector = ''\r\n",
        "    for i in range(2 * task_index, 2 * task_index + x):\r\n",
        "        bit_value = str(int(vector[i]))\r\n",
        "        subvector += bit_value\r\n",
        "    return subvector\r\n",
        "\r\n",
        "\r\n",
        "def solution_vector_correct(vector):\r\n",
        "    for i in range(len(tasks)):\r\n",
        "        if get_task_subvector(vector, i) not in correct_machines:\r\n",
        "            return False\r\n",
        "    return True\r\n",
        "\r\n",
        "\r\n",
        "def execution_times_not_bigger_than_deadline(vector):\r\n",
        "    for path_index in range(0, len(paths)):\r\n",
        "        path_time_sum = 0\r\n",
        "\r\n",
        "        for task in paths[path_index]:\r\n",
        "            task_machine = machine_to_index.get(get_task_subvector(vector, task))\r\n",
        "            path_time_sum += time_matrix[task_machine, task]\r\n",
        "        \r\n",
        "        # Correct only for that specific problem\r\n",
        "        if path_index == 0:\r\n",
        "            path_time_sum += 4 * int(vector[8]) + 2 * int(vector[9]) + 1 * int(vector[10])\r\n",
        "        elif path_index == 1:\r\n",
        "            path_time_sum += 4 * int(vector[11]) + 2 * int(vector[12]) + 1 * int(vector[13])\r\n",
        "\r\n",
        "        if path_time_sum != d:\r\n",
        "            return False\r\n",
        "\r\n",
        "    return True\r\n",
        "\r\n",
        "\r\n",
        "def is_solution_correct(vector):\r\n",
        "    return solution_vector_correct(vector) and execution_times_not_bigger_than_deadline(vector)"
      ],
      "execution_count": 91,
      "outputs": []
    },
    {
      "cell_type": "code",
      "metadata": {
        "id": "NFRfzo4zg70N"
      },
      "source": [
        "def get_cost_model(A):\r\n",
        "    mdl = Model(name='cost')\r\n",
        "    x = {(i, j): mdl.binary_var(name='x_{0}_{1}'.format(i, j)) \r\n",
        "        for i in range(0, tasks_count) for j in range(0, machines_count - 1)}\r\n",
        "    x.update({i: mdl.binary_var(name='x_{0}'.format(i)) for i in range(0, slacks_count)})\r\n",
        "\r\n",
        "    objective = A * mdl.sum(cost_matrix[2, i] * x[(i, 0)]\r\n",
        "                            + cost_matrix[1, i] * (x[(i, 1)] - x[(i, 0)]) ** 2\r\n",
        "                            + cost_matrix[0, i] * (1 - x[(i, 1)]) for i in range(0, tasks_count))\r\n",
        "    mdl.minimize(objective)\r\n",
        "    return mdl\r\n",
        "\r\n",
        "\r\n",
        "def get_machine_usage_model(B):\r\n",
        "    mdl = Model(name='machine_usage')\r\n",
        "    x = {(i, j): mdl.binary_var(name='x_{0}_{1}'.format(i, j)) \r\n",
        "        for i in range(0, tasks_count) for j in range(0, machines_count - 1)}\r\n",
        "    x.update({i: mdl.binary_var(name='x_{0}'.format(i)) for i in range(0, slacks_count)})\r\n",
        "\r\n",
        "    objective = B * mdl.sum(x[(i, 0)] - x[(i, 0)] * x[(i, 1)] for i in range(0, tasks_count))\r\n",
        "    mdl.minimize(objective)\r\n",
        "    return mdl\r\n",
        "\r\n",
        "\r\n",
        "def get_deadline_model(C, path_index):\r\n",
        "    mdl = Model(name='deadline_path_{}'.format(path_index))\r\n",
        "    x = {(i, j): mdl.binary_var(name='x_{0}_{1}'.format(i, j)) \r\n",
        "        for i in range(0, tasks_count) for j in range(0, machines_count - 1)}\r\n",
        "    x.update({i: mdl.binary_var(name='x_{0}'.format(i)) for i in range(0, slacks_count)})\r\n",
        "\r\n",
        "    starting_index = path_index * slack_per_path_count[path_index]\r\n",
        "    slacks_sum = 4 * x[starting_index] + 2 * x[starting_index + 1] + 1 * x[starting_index + 2]\r\n",
        "    objective = C * (d - mdl.sum(time_matrix[2, i] * x[(i, 0)]\r\n",
        "                                 + time_matrix[1, i] * (x[(i, 1)] - x[(i, 0)])\r\n",
        "                                 + time_matrix[0, i] * (1 - x[(i, 1)]) \r\n",
        "                                 for i in paths[path_index])  - slacks_sum) ** 2\r\n",
        "    mdl.minimize(objective)\r\n",
        "    return mdl"
      ],
      "execution_count": 92,
      "outputs": []
    },
    {
      "cell_type": "code",
      "metadata": {
        "id": "U5nsAOfom073"
      },
      "source": [
        "def print_solutions_with_inreasing_energy(hamiltonian):\r\n",
        "    eigensolver = NumPyEigensolver(hamiltonian, 100)\r\n",
        "    eigensolver_result  = eigensolver.compute_eigenvalues()\r\n",
        "\r\n",
        "    print(\"Vector\\t\\t\\tEnergy\\t\\t\\tCorrect?\")\r\n",
        "    for eigenstate, eigenvalue in zip(eigensolver_result.eigenstates, eigensolver_result.eigenvalues):\r\n",
        "        eigenstate, = eigenstate.sample().keys()\r\n",
        "        eigenstate = eigenstate[::-1]\r\n",
        "        print(\"{}\\t\\t{}\\t\\t{}\".format(eigenstate, eigenvalue, is_solution_correct(eigenstate)))"
      ],
      "execution_count": 93,
      "outputs": []
    },
    {
      "cell_type": "code",
      "metadata": {
        "id": "2Lgqb0pAfTYT"
      },
      "source": [
        "def get_quadratic_problem():\r\n",
        "    A = 1\r\n",
        "    B = 50\r\n",
        "    C = 100\r\n",
        "\r\n",
        "    cost_model = get_cost_model(A)\r\n",
        "    qp1 = QuadraticProgram()\r\n",
        "    qp1.from_docplex(cost_model)\r\n",
        "    H1, o1 = qp1.to_ising()\r\n",
        "\r\n",
        "    machine_usage_model = get_machine_usage_model(B)\r\n",
        "    qp2 = QuadraticProgram()\r\n",
        "    qp2.from_docplex(machine_usage_model)\r\n",
        "    H2, o2 = qp2.to_ising()\r\n",
        "\r\n",
        "    first_path_deadline_model = get_deadline_model(C, 0)\r\n",
        "    qp3 = QuadraticProgram()\r\n",
        "    qp3.from_docplex(first_path_deadline_model)\r\n",
        "    H3, o3 = qp3.to_ising()\r\n",
        "\r\n",
        "    second_path_deadline_model = get_deadline_model(C, 1)\r\n",
        "    qp4 = QuadraticProgram()\r\n",
        "    qp4.from_docplex(second_path_deadline_model)\r\n",
        "    H4, o4 = qp4.to_ising()\r\n",
        "\r\n",
        "    H = H1 + H2 + H3 + H4\r\n",
        "    o = o1 + o2 + o3 + o4\r\n",
        "    qp = QuadraticProgram()\r\n",
        "    qp.from_ising(H, o)\r\n",
        "\r\n",
        "    print_solutions_with_inreasing_energy(H)\r\n",
        "\r\n",
        "    return qp"
      ],
      "execution_count": 94,
      "outputs": []
    },
    {
      "cell_type": "code",
      "metadata": {
        "id": "2_LOjo1WhKKR",
        "colab": {
          "base_uri": "https://localhost:8080/"
        },
        "outputId": "52fc4416-e769-4089-8d75-2fc05886bebc"
      },
      "source": [
        "operator = get_quadratic_problem()"
      ],
      "execution_count": 95,
      "outputs": [
        {
          "output_type": "stream",
          "text": [
            "Vector\t\t\tEnergy\t\t\tCorrect?\n",
            "01111101011000\t\t(-20920+0j)\t\tTrue\n",
            "11110001001001\t\t(-20919+0j)\t\tTrue\n",
            "00110001010010\t\t(-20918+0j)\t\tTrue\n",
            "01001101101000\t\t(-20918+0j)\t\tTrue\n",
            "01110001011011\t\t(-20917+0j)\t\tTrue\n",
            "11000001011001\t\t(-20917+0j)\t\tTrue\n",
            "00000100000001\t\t(-20917+0j)\t\tTrue\n",
            "11010100001000\t\t(-20916+0j)\t\tTrue\n",
            "00000001100010\t\t(-20916+0j)\t\tTrue\n",
            "01011101111000\t\t(-20916+0j)\t\tTrue\n",
            "11110101001100\t\t(-20916+0j)\t\tTrue\n",
            "01000100001010\t\t(-20916+0j)\t\tTrue\n",
            "11010001101001\t\t(-20915+0j)\t\tTrue\n",
            "00010100010001\t\t(-20915+0j)\t\tTrue\n",
            "00110101010101\t\t(-20915+0j)\t\tTrue\n",
            "01000001101011\t\t(-20915+0j)\t\tTrue\n",
            "01110101011110\t\t(-20914+0j)\t\tTrue\n",
            "11000101011100\t\t(-20914+0j)\t\tTrue\n",
            "01010100011010\t\t(-20914+0j)\t\tTrue\n",
            "00010001110010\t\t(-20914+0j)\t\tTrue\n",
            "00000101100101\t\t(-20913+0j)\t\tTrue\n",
            "01010001111011\t\t(-20913+0j)\t\tTrue\n",
            "11010101101100\t\t(-20912+0j)\t\tTrue\n",
            "01000101101110\t\t(-20912+0j)\t\tTrue\n",
            "00010101110101\t\t(-20911+0j)\t\tTrue\n",
            "01010101111110\t\t(-20910+0j)\t\tTrue\n",
            "10110001000000\t\t(-20860+0j)\t\tFalse\n",
            "10000001010000\t\t(-20858+0j)\t\tFalse\n",
            "10110101000011\t\t(-20857+0j)\t\tFalse\n",
            "10010001100000\t\t(-20856+0j)\t\tFalse\n",
            "10000101010011\t\t(-20855+0j)\t\tFalse\n",
            "10010101100011\t\t(-20853+0j)\t\tFalse\n",
            "01101101001000\t\t(-20852+0j)\t\tFalse\n",
            "00100001000010\t\t(-20850+0j)\t\tFalse\n",
            "01100001001011\t\t(-20849+0j)\t\tFalse\n",
            "00100101000101\t\t(-20847+0j)\t\tFalse\n",
            "01100101001110\t\t(-20846+0j)\t\tFalse\n",
            "00111101010000\t\t(-20821+0j)\t\tFalse\n",
            "01111101010000\t\t(-20820+0j)\t\tFalse\n",
            "01111101011001\t\t(-20820+0j)\t\tFalse\n",
            "01111101100000\t\t(-20820+0j)\t\tFalse\n",
            "00001101100000\t\t(-20819+0j)\t\tFalse\n",
            "11110001001010\t\t(-20819+0j)\t\tFalse\n",
            "11110001010001\t\t(-20819+0j)\t\tFalse\n",
            "11110001001000\t\t(-20819+0j)\t\tFalse\n",
            "11110001000001\t\t(-20819+0j)\t\tFalse\n",
            "01000000001000\t\t(-20819+0j)\t\tFalse\n",
            "00110001010011\t\t(-20818+0j)\t\tFalse\n",
            "11000100000000\t\t(-20818+0j)\t\tFalse\n",
            "01110100000010\t\t(-20818+0j)\t\tFalse\n",
            "00110001011010\t\t(-20818+0j)\t\tFalse\n",
            "01001101101001\t\t(-20818+0j)\t\tFalse\n",
            "01001101110000\t\t(-20818+0j)\t\tFalse\n",
            "00110001001010\t\t(-20818+0j)\t\tFalse\n",
            "00110001010001\t\t(-20818+0j)\t\tFalse\n",
            "01001101100000\t\t(-20818+0j)\t\tFalse\n",
            "01110001011010\t\t(-20817+0j)\t\tFalse\n",
            "00000100001001\t\t(-20817+0j)\t\tFalse\n",
            "11000001010001\t\t(-20817+0j)\t\tFalse\n",
            "11000001011000\t\t(-20817+0j)\t\tFalse\n",
            "00011101110000\t\t(-20817+0j)\t\tFalse\n",
            "00000100000010\t\t(-20817+0j)\t\tFalse\n",
            "01110001100011\t\t(-20817+0j)\t\tFalse\n",
            "01110001011100\t\t(-20817+0j)\t\tFalse\n",
            "01010000011000\t\t(-20817+0j)\t\tFalse\n",
            "01110001010011\t\t(-20817+0j)\t\tFalse\n",
            "11000001011010\t\t(-20817+0j)\t\tFalse\n",
            "00000100000000\t\t(-20817+0j)\t\tFalse\n",
            "11000001100001\t\t(-20817+0j)\t\tFalse\n",
            "01000100001011\t\t(-20816+0j)\t\tFalse\n",
            "11110101000100\t\t(-20816+0j)\t\tFalse\n",
            "01000100001001\t\t(-20816+0j)\t\tFalse\n",
            "11110101001011\t\t(-20816+0j)\t\tFalse\n",
            "11110101001101\t\t(-20816+0j)\t\tFalse\n",
            "11010100010000\t\t(-20816+0j)\t\tFalse\n",
            "01000100000010\t\t(-20816+0j)\t\tFalse\n",
            "01011101111001\t\t(-20816+0j)\t\tFalse\n",
            "00000001100011\t\t(-20816+0j)\t\tFalse\n",
            "11010100000000\t\t(-20816+0j)\t\tFalse\n",
            "11010100001001\t\t(-20816+0j)\t\tFalse\n",
            "01011101110000\t\t(-20816+0j)\t\tFalse\n",
            "00000001100001\t\t(-20816+0j)\t\tFalse\n",
            "11110101010100\t\t(-20816+0j)\t\tFalse\n",
            "00000001011010\t\t(-20816+0j)\t\tFalse\n",
            "00000001101010\t\t(-20816+0j)\t\tFalse\n",
            "01000100010010\t\t(-20816+0j)\t\tFalse\n",
            "11010001101010\t\t(-20815+0j)\t\tFalse\n",
            "00010100010000\t\t(-20815+0j)\t\tFalse\n",
            "01000001101010\t\t(-20815+0j)\t\tFalse\n",
            "00010100010010\t\t(-20815+0j)\t\tFalse\n",
            "01000001100011\t\t(-20815+0j)\t\tFalse\n",
            "11010001100001\t\t(-20815+0j)\t\tFalse\n",
            "01000001101100\t\t(-20815+0j)\t\tFalse\n",
            "11010001101000\t\t(-20815+0j)\t\tFalse\n",
            "11010001110001\t\t(-20815+0j)\t\tFalse\n",
            "00010100011001\t\t(-20815+0j)\t\tFalse\n",
            "01000001110011\t\t(-20815+0j)\t\tFalse\n",
            "00110101001101\t\t(-20815+0j)\t\tFalse\n",
            "00010100001001\t\t(-20815+0j)\t\tFalse\n",
            "00110101010100\t\t(-20815+0j)\t\tFalse\n"
          ],
          "name": "stdout"
        }
      ]
    },
    {
      "cell_type": "code",
      "metadata": {
        "id": "pMRkfXTbhPuH"
      },
      "source": [
        "aqua_globals.random_seed = 10598\r\n",
        "quantum_instance = QuantumInstance(BasicAer.get_backend('statevector_simulator'),\r\n",
        "                                    seed_simulator=aqua_globals.random_seed,\r\n",
        "                                    seed_transpiler=aqua_globals.random_seed)\r\n",
        "reps = 2\r\n",
        "max_trials = 1000\r\n",
        "entanglement = 'full'\r\n",
        "\r\n",
        "exact_mes = NumPyMinimumEigensolver()\r\n",
        "spsa = SPSA(maxiter=max_trials)\r\n",
        "ry = RealAmplitudes(operator.get_num_binary_vars(), reps=reps, entanglement=entanglement)\r\n",
        "vqe_mes = VQE(quantum_instance=quantum_instance, var_form=ry, optimizer=spsa)\r\n",
        "qaoa_mes = QAOA(quantum_instance=quantum_instance, initial_point=[0., 0.])"
      ],
      "execution_count": 96,
      "outputs": []
    },
    {
      "cell_type": "code",
      "metadata": {
        "id": "niqMoFlQfeTm"
      },
      "source": [
        "exact = MinimumEigenOptimizer(exact_mes)\r\n",
        "vqe = MinimumEigenOptimizer(vqe_mes)\r\n",
        "qaoa = MinimumEigenOptimizer(qaoa_mes)\r\n",
        "recursive = RecursiveMinimumEigenOptimizer(min_eigen_optimizer=qaoa,\r\n",
        "                                           min_num_vars=8, \r\n",
        "                                           min_num_vars_optimizer=exact)"
      ],
      "execution_count": 100,
      "outputs": []
    },
    {
      "cell_type": "code",
      "metadata": {
        "id": "SSYGdE1bg6Ns"
      },
      "source": [
        "def perform_optimization(optimization, qubit_op, name):\r\n",
        "    result = optimization.solve(qubit_op)\r\n",
        "    print_optimization_output(result, name)\r\n",
        "\r\n",
        "def print_optimization_output(result, solver_name):\r\n",
        "    print(\"------ %s ------\" % solver_name)\r\n",
        "    print(result)\r\n",
        "    print(\"Is the found vector correct? : {}\".format(is_solution_correct(result.x)))\r\n",
        "    if type(result) is MinimumEigenOptimizationResult:\r\n",
        "        print(\"Most probable sample: {}\".format(max(result.samples, key=lambda item: item[2])))     \r\n",
        "        print(\"Lowest energy smple: {}\".format(min(result.samples, key=lambda item: item[1])))\r\n",
        "        print(\"Samples count: {}\\n\\n\".format(len(result.samples)))\r\n",
        "        \r\n",
        "        plt.figure(figsize=(20,10))   \r\n",
        "        for vector, energy, _ in result.samples:\r\n",
        "            color = \"green\" if is_solution_correct(vector) else \"red\"\r\n",
        "            plt.axvline(x=energy, color=color)\r\n",
        "        plt.xlabel(\"Energy\")\r\n",
        "        plt.ylabel(\"\")\r\n",
        "        plt.show()"
      ],
      "execution_count": 98,
      "outputs": []
    },
    {
      "cell_type": "code",
      "metadata": {
        "colab": {
          "base_uri": "https://localhost:8080/",
          "height": 823
        },
        "id": "wtHeG0hKgbcp",
        "outputId": "d9cebeea-7628-45b6-eb71-7462f9edd7fc"
      },
      "source": [
        "%%time\r\n",
        "perform_optimization(exact, operator, \"Numpy Eigensolver\")"
      ],
      "execution_count": 99,
      "outputs": [
        {
          "output_type": "stream",
          "text": [
            "------ Numpy Eigensolver ------\n",
            "optimal function value: 40.0\n",
            "optimal value: [0. 1. 1. 1. 1. 1. 0. 1. 0. 1. 1. 0. 0. 0.]\n",
            "status: SUCCESS\n",
            "Is the found vector correct? : True\n",
            "Most probable sample: ('01111101011000', 40.0, 1.0)\n",
            "Lowest energy smple: ('01111101011000', 40.0, 1.0)\n",
            "Samples count: 1\n",
            "\n",
            "\n"
          ],
          "name": "stdout"
        },
        {
          "output_type": "display_data",
          "data": {
            "image/png": "[encoded data removed]",
            "text/plain": [
              "<Figure size 1440x720 with 1 Axes>"
            ]
          },
          "metadata": {
            "tags": [],
            "needs_background": "light"
          }
        },
        {
          "output_type": "stream",
          "text": [
            "CPU times: user 527 ms, sys: 220 ms, total: 746 ms\n",
            "Wall time: 512 ms\n"
          ],
          "name": "stdout"
        }
      ]
    },
    {
      "cell_type": "code",
      "metadata": {
        "id": "G9sOVKr_gbgk",
        "colab": {
          "base_uri": "https://localhost:8080/",
          "height": 823
        },
        "outputId": "86c164ff-6572-414a-fcb5-ffd14e3c5362"
      },
      "source": [
        "%%time\r\n",
        "perform_optimization(vqe, operator, \"VQE\")"
      ],
      "execution_count": 17,
      "outputs": [
        {
          "output_type": "stream",
          "text": [
            "------ VQE ------\n",
            "optimal function value: 40.0\n",
            "optimal value: [0. 1. 1. 1. 1. 1. 0. 1. 0. 1. 1. 0. 0. 0.]\n",
            "status: SUCCESS\n",
            "Is the found vector correct? : True\n",
            "Most probable sample: ('01010111000000', 542.0, 0.41218738889216017)\n",
            "Lowest energy smple: ('01111101011000', 40.0, 3.770057170031168e-05)\n",
            "Samples count: 1415\n",
            "\n",
            "\n"
          ],
          "name": "stdout"
        },
        {
          "output_type": "display_data",
          "data": {
            "image/png": "[encoded data removed]",
            "text/plain": [
              "<Figure size 1440x720 with 1 Axes>"
            ]
          },
          "metadata": {
            "tags": [],
            "needs_background": "light"
          }
        },
        {
          "output_type": "stream",
          "text": [
            "CPU times: user 1h 25min 16s, sys: 15min 53s, total: 1h 41min 9s\n",
            "Wall time: 1h 10min 39s\n"
          ],
          "name": "stdout"
        }
      ]
    },
    {
      "cell_type": "code",
      "metadata": {
        "id": "awwxnWbNgahT",
        "colab": {
          "base_uri": "https://localhost:8080/",
          "height": 823
        },
        "outputId": "be2bd0f8-cac8-4527-b3c1-03606fb1b718"
      },
      "source": [
        "%%time\r\n",
        "perform_optimization(qaoa, operator, \"QAOA\")"
      ],
      "execution_count": 31,
      "outputs": [
        {
          "output_type": "stream",
          "text": [
            "------ QAOA ------\n",
            "optimal function value: 40.0\n",
            "optimal value: [0. 1. 1. 1. 1. 1. 0. 1. 0. 1. 1. 0. 0. 0.]\n",
            "status: SUCCESS\n",
            "Is the found vector correct? : True\n",
            "Most probable sample: ('01001101101000', 42.0, 6.103515625000003e-05)\n",
            "Lowest energy smple: ('01111101011000', 40.0, 6.103515624999997e-05)\n",
            "Samples count: 16384\n",
            "\n",
            "\n"
          ],
          "name": "stdout"
        },
        {
          "output_type": "display_data",
          "data": {
            "image/png": "[encoded data removed]",
            "text/plain": [
              "<Figure size 1440x720 with 1 Axes>"
            ]
          },
          "metadata": {
            "tags": [],
            "needs_background": "light"
          }
        },
        {
          "output_type": "stream",
          "text": [
            "CPU times: user 18min 13s, sys: 1min 23s, total: 19min 37s\n",
            "Wall time: 19min 19s\n"
          ],
          "name": "stdout"
        }
      ]
    },
    {
      "cell_type": "code",
      "metadata": {
        "id": "dt64oVdqgZVZ",
        "colab": {
          "base_uri": "https://localhost:8080/"
        },
        "outputId": "a55e32ba-7574-4f83-ac3a-4756a368ea22"
      },
      "source": [
        "%%time\r\n",
        "perform_optimization(recursive, operator, \"Recursive\")"
      ],
      "execution_count": 16,
      "outputs": [
        {
          "output_type": "stream",
          "text": [
            "------ Recursive ------\n",
            "optimal function value: 42.0\n",
            "optimal value: [0. 0. 1. 1. 0. 0. 0. 1. 0. 1. 0. 0. 1. 0.]\n",
            "status: SUCCESS\n",
            "Is the found vector correct? : True\n",
            "CPU times: user 24min 48s, sys: 1min 5s, total: 25min 53s\n",
            "Wall time: 25min 49s\n"
          ],
          "name": "stdout"
        }
      ]
    }
  ]
}