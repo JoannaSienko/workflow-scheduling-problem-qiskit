{
 "cells": [
  {
   "cell_type": "code",
   "execution_count": 21,
   "metadata": {},
   "outputs": [],
   "source": [
    "from qiskit import Aer\n",
    "from qiskit.aqua.algorithms import VQE, ExactEigensolver, QAOA\n",
    "from qiskit.aqua.components.optimizers import SPSA\n",
    "from qiskit.aqua import QuantumInstance\n",
    "from qiskit.aqua import aqua_globals\n",
    "from qiskit.circuit.library import RealAmplitudes\n",
    "from qiskit.visualization import circuit_visualization\n",
    "from docplex.mp.model import Model\n",
    "from qiskit.optimization.applications.ising import docplex\n",
    "# from qiskit import IBMQ\n",
    "# IBMQ.load_account()\n",
    "import numpy as np\n",
    "\n",
    "from collections import OrderedDict"
   ]
  },
  {
   "cell_type": "code",
   "execution_count": 22,
   "metadata": {
    "scrolled": true
   },
   "outputs": [
    {
     "name": "stdout",
     "output_type": "stream",
     "text": [
      "Time matrix:\n",
      " [[ 6.  3. 12.]\n",
      " [ 2.  1.  4.]\n",
      " [ 4.  2.  8.]]\n",
      "Cost matrix:\n",
      " [[ 6.  3. 12.]\n",
      " [ 8.  4. 16.]\n",
      " [ 8.  4. 16.]]\n"
     ]
    }
   ],
   "source": [
    "M = [2,6,3]\n",
    "K = [1,4,2]\n",
    "T = [12, 6, 24]\n",
    "d = 19\n",
    "\n",
    "def get_time_matrix(M, T):\n",
    "    r = []\n",
    "    for i in M:\n",
    "        tmp = []\n",
    "        for j in T:\n",
    "            tmp.append(j / i)\n",
    "        r.append(tmp)\n",
    "    return np.array(r)\n",
    "\n",
    "\n",
    "def get_cost_matrix(time_matrix, K):\n",
    "    m = []\n",
    "    for i in range(len(time_matrix)):\n",
    "        tmp = []\n",
    "        for j in time_matrix[i]:\n",
    "            tmp.append(K[i] * j)\n",
    "        m.append(tmp)\n",
    "    return m\n",
    "\n",
    "time_matrix = np.array(get_time_matrix(M, T))\n",
    "cost_matrix = np.array(get_cost_matrix(time_matrix, K))\n",
    "\n",
    "print(\"Time matrix:\\n {}\".format(time_matrix))\n",
    "print(\"Cost matrix:\\n {}\".format(cost_matrix))"
   ]
  },
  {
   "cell_type": "code",
   "execution_count": 23,
   "metadata": {},
   "outputs": [],
   "source": [
    "def sample_most_likely(state_vector):\n",
    "    if isinstance(state_vector, (OrderedDict, dict)):\n",
    "        # get the binary string with the largest count\n",
    "        binary_string = sorted(state_vector.items(), key=lambda kv: kv[1])\n",
    "        repetitions = int(binary_string[-1][1])\n",
    "        binary_string = binary_string[-1][0]\n",
    "        x = np.asarray([int(y) for y in reversed(list(binary_string))])\n",
    "        return x, repetitions\n",
    "    return [], 0\n",
    "\n",
    "optimal_key = \"0000001000\"\n",
    "\n",
    "def get_stats_for_result(dict_res):\n",
    "    optimal = 0\n",
    "    correct = 0\n",
    "    incorrect = 0\n",
    "    correct_config = 0\n",
    "    incorrect_config = 0\n",
    "     \n",
    "    if optimal_key in dict_res:\n",
    "        optimal = dict_res[optimal_key]\n",
    "    for key, val in dict_res.items():\n",
    "        if is_correct(key):\n",
    "            correct += val\n",
    "            correct_config += 1\n",
    "        else:\n",
    "            incorrect += val\n",
    "            incorrect_config += 1\n",
    "            \n",
    "    print('most likely solution: ',sample_most_likely(dict_res))      \n",
    "    print(\"optimal: \", optimal)\n",
    "    print(\"correct solutions: \", correct)\n",
    "    print(\"incorrect solutions: \", incorrect)\n",
    "    print(\"correct configs: \", correct_config)\n",
    "    print(\"incorrect configs: \", incorrect_config)\n",
    "\n",
    "def is_correct(key):\n",
    "    reversed_key = key[::-1]\n",
    "    if solution_vector_correct(reversed_key) and execution_time(reversed_key) <= d:\n",
    "        return True\n",
    "    return False\n",
    "\n",
    "correct_machines = ['00', '01', '11']\n",
    "machine_to_index = {'00': 0, '01': 1, '11': 2}\n",
    "\n",
    "def solution_vector_correct(vector):\n",
    "    task1_machine = vector[0:2]\n",
    "    task2_machine = vector[2:4]\n",
    "    task3_machine = vector[4:6]\n",
    "\n",
    "    if task1_machine in correct_machines and task2_machine in correct_machines and task3_machine in correct_machines:\n",
    "        return True\n",
    "    return False\n",
    "\n",
    "def execution_time(k):\n",
    "    task1_machine = machine_to_index.get(k[0:2])\n",
    "    task2_machine = machine_to_index.get(k[2:4])\n",
    "    task3_machine = machine_to_index.get(k[4:6])\n",
    "    \n",
    "    task1_time = time_matrix[task1_machine, 0]\n",
    "    task2_time = time_matrix[task2_machine, 1]\n",
    "    task3_time = time_matrix[task3_machine, 2]\n",
    "    \n",
    "    slack_sum = int(k[6]) * 8 + int(k[7]) * 4 + int(k[8]) * 2 + int(k[9]) * 1\n",
    "    \n",
    "    return task1_time + task2_time + task3_time + slack_sum"
   ]
  },
  {
   "cell_type": "code",
   "execution_count": 24,
   "metadata": {},
   "outputs": [],
   "source": [
    "def getMdl1(A):\n",
    "    mdl = Model(name='cost')\n",
    "    x = {(i, j) : mdl.binary_var(name='x_{0}_{1}'.format(i, j)) for i in range(0, 3) for j in range(0, 2)}\n",
    "    x.update({i : mdl.binary_var(name='x_{0}'.format(i)) for i in range(7, 11)})\n",
    "    objective = A * mdl.sum(cost_matrix[2,i] * x[(i,0)]   \n",
    "                            + cost_matrix[1,i] * (x[(i,1)] - x[(i,0)]) ** 2\n",
    "                            + cost_matrix[0,i] * (1 - x[(i,1)]) for i in range(0, 3))\n",
    "    #why adding (x[7] + x[8] + x[9] + x[10])?\n",
    "    mdl.minimize(objective)\n",
    "    return mdl\n",
    "\n",
    "def getMdl2(B):\n",
    "    mdl = Model(name='machine-usage')\n",
    "    x = {(i, j) : mdl.binary_var(name='x_{0}_{1}'.format(i, j)) for i in range(0, 3) for j in range(0, 2)}\n",
    "    x.update({i : mdl.binary_var(name='x_{0}'.format(i)) for i in range(7, 11)})\n",
    "    objective = B * mdl.sum(x[(i,0)] - x[(i,0)] * x[(i,1)] for i in range(0, 3))\n",
    "    mdl.minimize(objective)\n",
    "    return mdl\n",
    "\n",
    "def getMdl3(C):\n",
    "    mdl = Model(name='deadline')\n",
    "    x = {(i, j) : mdl.binary_var(name='x_{0}_{1}'.format(i, j)) for i in range(0, 3) for j in range(0, 2)}\n",
    "    x.update({i : mdl.binary_var(name='x_{0}'.format(i)) for i in range(7, 11)})\n",
    "    objective = C * ( d - mdl.sum([time_matrix[2,i] * x[(i,0)]   \n",
    "                            + time_matrix[1,i] * (x[(i,1)] - x[(i,0)])\n",
    "                            + time_matrix[0,i] * (1 - x[(i,1)]) for i in range(0, 3)] + [8 * x[7] + 4 * x[8] + 2 * x[9] + x[10]]) ) ** 2\n",
    "    mdl.minimize(objective)\n",
    "    return mdl"
   ]
  },
  {
   "cell_type": "code",
   "execution_count": 25,
   "metadata": {},
   "outputs": [],
   "source": [
    "from docplex.mp.model import Model\n",
    "from qiskit.optimization.problems import QuadraticProgram\n",
    "\n",
    "def createOp(A, B, C):\n",
    "    # cost\n",
    "    mdl1 = getMdl1(A)\n",
    "    qp1 = QuadraticProgram()\n",
    "    qp1.from_docplex(mdl1)\n",
    "    H1, _ = qp1.to_ising()\n",
    "\n",
    "    #machine usage\n",
    "    mdl2 = getMdl2(B)\n",
    "    qp2 = QuadraticProgram()\n",
    "    qp2.from_docplex(mdl2)\n",
    "    H2, _ = qp2.to_ising()\n",
    "\n",
    "    # deadline\n",
    "    mdl3 = getMdl3(C)\n",
    "    qp3 = QuadraticProgram()\n",
    "    qp3.from_docplex(mdl3)\n",
    "    H3, _ = qp3.to_ising()\n",
    "    \n",
    "    return H1 + H2 + H3"
   ]
  },
  {
   "cell_type": "code",
   "execution_count": 26,
   "metadata": {
    "scrolled": false
   },
   "outputs": [],
   "source": [
    "seed = 123569 \n",
    "aqua_globals.random_seed = seed\n",
    "entanglement='full' #test as well 'circular', 'sca', 'linear'\n",
    "\n",
    "A = 2\n",
    "B = 10\n",
    "C = 7\n",
    "\n",
    "reps = 2\n",
    "max_trials = 1000\n",
    "shots = 100\n",
    "\n",
    "qubitOp = createOp(A, B, C)"
   ]
  },
  {
   "cell_type": "code",
   "execution_count": 27,
   "metadata": {},
   "outputs": [
    {
     "name": "stdout",
     "output_type": "stream",
     "text": [
      "most likely solution:  (array([1, 1, 0, 1, 0, 0, 0, 0, 0, 0]), 25)\n",
      "optimal:  11\n",
      "correct solutions:  69\n",
      "incorrect solutions:  31\n",
      "correct configs:  11\n",
      "incorrect configs:  9\n"
     ]
    }
   ],
   "source": [
    "spsa = SPSA(maxiter=max_trials)\n",
    "ry = RealAmplitudes(qubitOp.num_qubits, reps=reps, entanglement=entanglement)\n",
    "vqe = VQE(qubitOp, ry, spsa)\n",
    "\n",
    "#p = 2\n",
    "#qaoa = QAOA(qubitOp, spsa, p)\n",
    "\n",
    "# provider = IBMQ.get_provider('ibm-q')\n",
    "backend = Aer.get_backend('qasm_simulator')\n",
    "quantum_instance = QuantumInstance(backend, seed_simulator=seed, seed_transpiler=seed, shots=shots)\n",
    "result = vqe.run(quantum_instance)   \n",
    "state_vector = result['eigenstate']\n",
    "get_stats_for_result(state_vector)"
   ]
  },
  {
   "cell_type": "code",
   "execution_count": 28,
   "metadata": {},
   "outputs": [
    {
     "name": "stdout",
     "output_type": "stream",
     "text": [
      "{'eigenvalues': array([-625.+0.j, -623.+0.j, -623.+0.j]), 'eigenstates': ListOp([VectorStateFn(Statevector([0.+0.j, 0.+0.j, 0.+0.j, ..., 0.+0.j, 0.+0.j, 0.+0.j],\n",
      "            dims=(2, 2, 2, 2, 2, 2, 2, 2, 2, 2)), coeff=1.0, is_measurement=False), VectorStateFn(Statevector([0.+0.j, 0.+0.j, 0.+0.j, ..., 0.+0.j, 0.+0.j, 0.+0.j],\n",
      "            dims=(2, 2, 2, 2, 2, 2, 2, 2, 2, 2)), coeff=1.0, is_measurement=False), VectorStateFn(Statevector([0.+0.j, 0.+0.j, 0.+0.j, ..., 0.+0.j, 0.+0.j, 0.+0.j],\n",
      "            dims=(2, 2, 2, 2, 2, 2, 2, 2, 2, 2)), coeff=1.0, is_measurement=False)], coeff=1.0, abelian=False)}\n"
     ]
    }
   ],
   "source": [
    "from qiskit.aqua.algorithms import NumPyEigensolver\n",
    "\n",
    "eigensolver = NumPyEigensolver(qubitOp, 3)\n",
    "print(eigensolver.compute_eigenvalues())"
   ]
  },
  {
   "cell_type": "code",
   "execution_count": 29,
   "metadata": {},
   "outputs": [
    {
     "data": {
      "text/plain": [
       "-594.69"
      ]
     },
     "execution_count": 29,
     "metadata": {},
     "output_type": "execute_result"
    }
   ],
   "source": [
    "vqe.get_optimal_cost()"
   ]
  },
  {
   "cell_type": "code",
   "execution_count": 30,
   "metadata": {
    "scrolled": false
   },
   "outputs": [
    {
     "data": {
      "text/plain": [
       "{'0100000010': 1,\n",
       " '0100001000': 6,\n",
       " '0100001011': 10,\n",
       " '0100001100': 5,\n",
       " '0100001110': 2,\n",
       " '0100001111': 3,\n",
       " '1001110101': 1,\n",
       " '1001111010': 1,\n",
       " '1010001111': 1,\n",
       " '0000000011': 2,\n",
       " '1100111010': 1,\n",
       " '1101101000': 1,\n",
       " '1101101010': 2,\n",
       " '0000001000': 11,\n",
       " '0010001011': 1,\n",
       " '0000001010': 1,\n",
       " '0000001011': 25,\n",
       " '0000001100': 12,\n",
       " '0000001110': 1,\n",
       " '0000001111': 13}"
      ]
     },
     "execution_count": 30,
     "metadata": {},
     "output_type": "execute_result"
    }
   ],
   "source": [
    "vqe.get_optimal_vector()\n",
    "#qaoa.get_optimal_vector()"
   ]
  }
 ],
 "metadata": {
  "kernelspec": {
   "display_name": "Python 3",
   "language": "python",
   "name": "python3"
  },
  "language_info": {
   "codemirror_mode": {
    "name": "ipython",
    "version": 3
   },
   "file_extension": ".py",
   "mimetype": "text/x-python",
   "name": "python",
   "nbconvert_exporter": "python",
   "pygments_lexer": "ipython3",
   "version": "3.7.8"
  }
 },
 "nbformat": 4,
 "nbformat_minor": 4
}
