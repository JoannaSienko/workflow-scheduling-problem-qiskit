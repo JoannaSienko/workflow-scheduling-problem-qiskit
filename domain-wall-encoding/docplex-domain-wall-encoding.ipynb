{
 "cells": [
  {
   "cell_type": "code",
   "execution_count": 10,
   "metadata": {},
   "outputs": [],
   "source": [
    "from qiskit import Aer\n",
    "from qiskit.aqua.algorithms import VQE, ExactEigensolver, QAOA\n",
    "from qiskit.aqua.components.optimizers import SPSA\n",
    "from qiskit.aqua import QuantumInstance\n",
    "from qiskit.aqua import aqua_globals\n",
    "from qiskit.circuit.library import RealAmplitudes\n",
    "from qiskit.visualization import circuit_visualization\n",
    "from docplex.mp.model import Model\n",
    "from qiskit.optimization.applications.ising import docplex\n",
    "# from qiskit import IBMQ\n",
    "# IBMQ.load_account()\n",
    "import numpy as np\n",
    "\n",
    "from collections import OrderedDict"
   ]
  },
  {
   "cell_type": "code",
   "execution_count": 11,
   "metadata": {},
   "outputs": [
    {
     "name": "stdout",
     "output_type": "stream",
     "text": [
      "Time matrix:\n",
      " [[ 6.  3. 12.]\n",
      " [ 2.  1.  4.]\n",
      " [ 4.  2.  8.]]\n",
      "Cost matrix:\n",
      " [[ 6.  3. 12.]\n",
      " [ 8.  4. 16.]\n",
      " [ 8.  4. 16.]]\n"
     ]
    }
   ],
   "source": [
    "M = [2,6,3]\n",
    "K = [1,4,2]\n",
    "T = [12, 6, 24]\n",
    "d = 19\n",
    "\n",
    "def get_time_matrix(M, T):\n",
    "    r = []\n",
    "    for i in M:\n",
    "        tmp = []\n",
    "        for j in T:\n",
    "            tmp.append(j / i)\n",
    "        r.append(tmp)\n",
    "    return np.array(r)\n",
    "\n",
    "\n",
    "def get_cost_matrix(time_matrix, K):\n",
    "    m = []\n",
    "    for i in range(len(time_matrix)):\n",
    "        tmp = []\n",
    "        for j in time_matrix[i]:\n",
    "            tmp.append(K[i] * j)\n",
    "        m.append(tmp)\n",
    "    return m\n",
    "\n",
    "time_matrix = np.array(get_time_matrix(M, T))\n",
    "cost_matrix = np.array(get_cost_matrix(time_matrix, K))\n",
    "\n",
    "print(\"Time matrix:\\n {}\".format(time_matrix))\n",
    "print(\"Cost matrix:\\n {}\".format(cost_matrix))"
   ]
  },
  {
   "cell_type": "code",
   "execution_count": 12,
   "metadata": {},
   "outputs": [],
   "source": [
    "def sample_most_likely(state_vector):\n",
    "    if isinstance(state_vector, (OrderedDict, dict)):\n",
    "        # get the binary string with the largest count\n",
    "        binary_string = sorted(state_vector.items(), key=lambda kv: kv[1])\n",
    "        repetitions = int(binary_string[-1][1])\n",
    "        binary_string = binary_string[-1][0]\n",
    "        x = np.asarray([int(y) for y in reversed(list(binary_string))])\n",
    "        return x, repetitions\n",
    "    return [], 0\n",
    "\n",
    "optimal_key = \"0000001000\"\n",
    "\n",
    "def get_stats_for_result(dict_res):\n",
    "    optimal = 0\n",
    "    correct = 0\n",
    "    incorrect = 0\n",
    "    correct_config = 0\n",
    "    incorrect_config = 0\n",
    "     \n",
    "    if optimal_key in dict_res:\n",
    "        optimal = dict_res[optimal_key]\n",
    "    for key, val in dict_res.items():\n",
    "        if is_correct(key):\n",
    "            correct += val\n",
    "            correct_config += 1\n",
    "        else:\n",
    "            incorrect += val\n",
    "            incorrect_config += 1\n",
    "            \n",
    "    print('most likely solution: ',sample_most_likely(dict_res))      \n",
    "    print(\"optimal: \", optimal)\n",
    "    print(\"correct solutions: \", correct)\n",
    "    print(\"incorrect solutions: \", incorrect)\n",
    "    print(\"correct configs: \", correct_config)\n",
    "    print(\"incorrect configs: \", incorrect_config)\n",
    "\n",
    "def is_correct(key):\n",
    "    reversed_key = key[::-1]\n",
    "    if solution_vector_correct(reversed_key) and execution_time(reversed_key) <= d:\n",
    "        return True\n",
    "    return False\n",
    "\n",
    "correct_machines = ['00', '01', '11']\n",
    "machine_to_index = {'00': 0, '01': 1, '11': 2}\n",
    "\n",
    "def solution_vector_correct(vector):\n",
    "    task1_machine = vector[0:2]\n",
    "    task2_machine = vector[2:4]\n",
    "    task3_machine = vector[4:6]\n",
    "\n",
    "    if task1_machine in correct_machines and task2_machine in correct_machines and task3_machine in correct_machines:\n",
    "        return True\n",
    "    return False\n",
    "\n",
    "def execution_time(k):\n",
    "    task1_machine = machine_to_index.get(k[0:2])\n",
    "    task2_machine = machine_to_index.get(k[2:4])\n",
    "    task3_machine = machine_to_index.get(k[4:6])\n",
    "    \n",
    "    task1_time = time_matrix[task1_machine, 0]\n",
    "    task2_time = time_matrix[task2_machine, 1]\n",
    "    task3_time = time_matrix[task3_machine, 2]\n",
    "    \n",
    "    slack_sum = int(k[6]) * 8 + int(k[7]) * 4 + int(k[8]) * 2 + int(k[9]) * 1\n",
    "    \n",
    "    return task1_time + task2_time + task3_time + slack_sum"
   ]
  },
  {
   "cell_type": "code",
   "execution_count": 13,
   "metadata": {},
   "outputs": [],
   "source": [
    "def getMdl(A,B,C):\n",
    "    mdl = Model(name='workflow')\n",
    "    x = {(i, j) : mdl.binary_var(name='x_{0}_{1}'.format(i, j)) for i in range(0, 3) for j in range(0, 2)}\n",
    "    x.update({i : mdl.binary_var(name='x_{0}'.format(i)) for i in range(7, 11)})\n",
    "    \n",
    "    objective = A* mdl.sum(cost_matrix[2,i] * x[(i,0)]   \n",
    "                            + cost_matrix[1,i] * (x[(i,1)] - x[(i,0)]) ** 2\n",
    "                            + cost_matrix[0,i] * (1 - x[(i,1)]) for i in range(0, 3))\n",
    "    \n",
    "    mdl.add_constraint(B * mdl.sum((x[(i,0)] - x[(i,0)] * x[(i,1)]) for i in range(0, 3)) == 0, \"machine usage\")\n",
    "\n",
    "    mdl.add_constraint(C * (mdl.sum([time_matrix[2,i] * x[(i,0)]   \n",
    "                            + time_matrix[1,i] * (x[(i,1)] - x[(i,0)])**2\n",
    "                            + time_matrix[0,i] * (1 - x[(i,1)]) for i in range(0, 3)]) \n",
    "                                  + (8 * x[7] + 4 * x[8] + 2 * x[9] + x[10])) == C * d, \"deadline\")\n",
    "    \n",
    "    mdl.minimize(objective)\n",
    "    \n",
    "    print(\"Number of quadratic constraints: {}\".format(mdl.number_of_quadratic_constraints))    \n",
    "    print(mdl.export_as_lp_string())\n",
    "    \n",
    "    H, _ = docplex.get_operator(mdl)\n",
    "    return H"
   ]
  },
  {
   "cell_type": "code",
   "execution_count": 14,
   "metadata": {},
   "outputs": [
    {
     "name": "stdout",
     "output_type": "stream",
     "text": [
      "Number of quadratic constraints: 2\n",
      "\\ This file has been generated by DOcplex\n",
      "\\ ENCODING=ISO-8859-1\n",
      "\\Problem name: workflow\n",
      "\n",
      "Minimize\n",
      " obj: 16 x_0_0 - 12 x_0_1 + 8 x_1_0 - 6 x_1_1 + 32 x_2_0 - 24 x_2_1 + [\n",
      "      32 x_0_0^2 - 64 x_0_0*x_0_1 + 32 x_0_1^2 + 16 x_1_0^2 - 32 x_1_0*x_1_1\n",
      "      + 16 x_1_1^2 + 64 x_2_0^2 - 128 x_2_0*x_2_1 + 64 x_2_1^2 ]/2 + 42\n",
      "Subject To\n",
      " machine_usage: [ - 10 x_0_0*x_0_1 - 10 x_1_0*x_1_1 - 10 x_2_0*x_2_1 ]\n",
      "                + 10 x_0_0 + 10 x_1_0 + 10 x_2_0 = 0\n",
      " deadline: [ 14 x_0_0^2 - 28 x_0_0*x_0_1 + 14 x_0_1^2 + 7 x_1_0^2\n",
      "           - 14 x_1_0*x_1_1 + 7 x_1_1^2 + 28 x_2_0^2 - 56 x_2_0*x_2_1\n",
      "           + 28 x_2_1^2 ] + 28 x_0_0 - 42 x_0_1 + 14 x_1_0 - 21 x_1_1 + 56 x_2_0\n",
      "           - 84 x_2_1 + 56 x_7 + 28 x_8 + 14 x_9 + 7 x_10 = -14\n",
      "\n",
      "Bounds\n",
      " 0 <= x_0_0 <= 1\n",
      " 0 <= x_0_1 <= 1\n",
      " 0 <= x_1_0 <= 1\n",
      " 0 <= x_1_1 <= 1\n",
      " 0 <= x_2_0 <= 1\n",
      " 0 <= x_2_1 <= 1\n",
      " 0 <= x_7 <= 1\n",
      " 0 <= x_8 <= 1\n",
      " 0 <= x_9 <= 1\n",
      " 0 <= x_10 <= 1\n",
      "\n",
      "Binaries\n",
      " x_0_0 x_0_1 x_1_0 x_1_1 x_2_0 x_2_1 x_7 x_8 x_9 x_10\n",
      "End\n",
      "\n"
     ]
    }
   ],
   "source": [
    "seed = 123569\n",
    "aqua_globals.random_seed = seed\n",
    "entanglement='full'\n",
    "\n",
    "reps = 2\n",
    "max_trials = 1000\n",
    "shots = 100\n",
    "\n",
    "A = 2\n",
    "B = 10\n",
    "C = 7\n",
    "\n",
    "qubitOp = getMdl(A, B, C)"
   ]
  },
  {
   "cell_type": "code",
   "execution_count": 15,
   "metadata": {},
   "outputs": [
    {
     "name": "stdout",
     "output_type": "stream",
     "text": [
      "most likely solution:  (array([1, 1, 0, 1, 0, 0, 0, 0, 1, 0]), 44)\n",
      "optimal:  0\n",
      "correct solutions:  50\n",
      "incorrect solutions:  50\n",
      "correct configs:  4\n",
      "incorrect configs:  13\n"
     ]
    }
   ],
   "source": [
    "spsa = SPSA(maxiter=max_trials)\n",
    "ry = RealAmplitudes(qubitOp.num_qubits, reps=reps, entanglement=entanglement)\n",
    "vqe = VQE(qubitOp, ry, spsa)\n",
    "# provider= IBMQ.get_provider('ibm-q')\n",
    "backend = Aer.get_backend('qasm_simulator')\n",
    "quantum_instance = QuantumInstance(backend,seed_simulator=seed, seed_transpiler=seed, shots=shots)\n",
    "result = vqe.run(quantum_instance)   \n",
    "state_vector = result['eigenstate']\n",
    "get_stats_for_result(state_vector)"
   ]
  },
  {
   "cell_type": "code",
   "execution_count": 16,
   "metadata": {},
   "outputs": [
    {
     "name": "stdout",
     "output_type": "stream",
     "text": [
      "{'eigenvalues': array([-2083221.5+0.j, -2083219.5+0.j, -2083217.5+0.j]), 'eigenstates': ListOp([VectorStateFn(Statevector([0.+0.j, 0.+0.j, 0.+0.j, ..., 0.+0.j, 0.+0.j, 0.+0.j],\n",
      "            dims=(2, 2, 2, 2, 2, 2, 2, 2, 2, 2)), coeff=1.0, is_measurement=False), VectorStateFn(Statevector([0.+0.j, 0.+0.j, 0.+0.j, ..., 0.+0.j, 0.+0.j, 0.+0.j],\n",
      "            dims=(2, 2, 2, 2, 2, 2, 2, 2, 2, 2)), coeff=1.0, is_measurement=False), VectorStateFn(Statevector([0.+0.j, 0.+0.j, 0.+0.j, ..., 0.+0.j, 0.+0.j, 0.+0.j],\n",
      "            dims=(2, 2, 2, 2, 2, 2, 2, 2, 2, 2)), coeff=1.0, is_measurement=False)], coeff=1.0, abelian=False)}\n"
     ]
    }
   ],
   "source": [
    "from qiskit.aqua.algorithms import NumPyEigensolver\n",
    "\n",
    "eigensolver = NumPyEigensolver(qubitOp, 3)\n",
    "print(eigensolver.compute_eigenvalues())"
   ]
  },
  {
   "cell_type": "code",
   "execution_count": 17,
   "metadata": {},
   "outputs": [
    {
     "data": {
      "text/plain": [
       "-1978572.7100000007"
      ]
     },
     "execution_count": 17,
     "metadata": {},
     "output_type": "execute_result"
    }
   ],
   "source": [
    "vqe.get_optimal_cost()\n",
    "#qaoa.get_optimal_vector()"
   ]
  },
  {
   "cell_type": "code",
   "execution_count": 18,
   "metadata": {
    "scrolled": true
   },
   "outputs": [
    {
     "data": {
      "text/plain": [
       "{'0100001000': 1,\n",
       " '0100001010': 3,\n",
       " '0100001011': 44,\n",
       " '0100001111': 2,\n",
       " '0110001010': 2,\n",
       " '0110001011': 23,\n",
       " '0110001111': 1,\n",
       " '1100001011': 7,\n",
       " '0001100000': 2,\n",
       " '0001100001': 5,\n",
       " '0001101000': 1,\n",
       " '0001101001': 1,\n",
       " '0010001011': 3,\n",
       " '0010001111': 1,\n",
       " '0000001011': 2,\n",
       " '0011100000': 1,\n",
       " '0011101001': 1}"
      ]
     },
     "execution_count": 18,
     "metadata": {},
     "output_type": "execute_result"
    }
   ],
   "source": [
    "vqe.get_optimal_vector()\n",
    "#qaoa.get_optimal_vector()"
   ]
  }
 ],
 "metadata": {
  "kernelspec": {
   "display_name": "Python 3",
   "language": "python",
   "name": "python3"
  },
  "language_info": {
   "codemirror_mode": {
    "name": "ipython",
    "version": 3
   },
   "file_extension": ".py",
   "mimetype": "text/x-python",
   "name": "python",
   "nbconvert_exporter": "python",
   "pygments_lexer": "ipython3",
   "version": "3.7.8"
  }
 },
 "nbformat": 4,
 "nbformat_minor": 4
}
