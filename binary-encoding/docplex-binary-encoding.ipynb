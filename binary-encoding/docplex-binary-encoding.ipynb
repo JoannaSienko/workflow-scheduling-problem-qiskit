{
 "cells": [
  {
   "cell_type": "code",
   "execution_count": 1,
   "metadata": {},
   "outputs": [
    {
     "name": "stderr",
     "output_type": "stream",
     "text": [
      "/home/julia/.local/lib/python3.6/site-packages/qiskit/providers/ibmq/ibmqfactory.py:192: UserWarning: Timestamps in IBMQ backend properties, jobs, and job results are all now in local time instead of UTC.\n",
      "  warnings.warn('Timestamps in IBMQ backend properties, jobs, and job results '\n"
     ]
    }
   ],
   "source": [
    "from qiskit import Aer\n",
    "from qiskit.aqua.algorithms import VQE, ExactEigensolver, QAOA\n",
    "from qiskit.aqua.components.optimizers import SPSA\n",
    "from qiskit.aqua import QuantumInstance\n",
    "from qiskit.aqua import aqua_globals\n",
    "from qiskit.circuit.library import RealAmplitudes\n",
    "from qiskit.visualization import circuit_visualization\n",
    "from docplex.mp.model import Model\n",
    "from qiskit.optimization.applications.ising import docplex\n",
    "from qiskit import IBMQ\n",
    "IBMQ.save_account('9272976c3b881b8346c3a619e97a0229e7189137e50baa0b5648a300d9af2ad30fa26d401b1512203e0502f2b2a33984515936c4b4fca8f4a6a1bbb66de12f85', overwrite=True)\n",
    "IBMQ.load_account()\n",
    "import numpy as np\n",
    "\n",
    "from collections import OrderedDict"
   ]
  },
  {
   "cell_type": "code",
   "execution_count": 2,
   "metadata": {},
   "outputs": [
    {
     "name": "stdout",
     "output_type": "stream",
     "text": [
      "[[ 6.  3. 12.]\n",
      " [ 2.  1.  4.]\n",
      " [ 4.  2.  8.]]\n",
      "[[ 6.  3. 12.]\n",
      " [ 8.  4. 16.]\n",
      " [ 8.  4. 16.]]\n"
     ]
    }
   ],
   "source": [
    "M = [2,6,3]\n",
    "K = [1,4,2]\n",
    "T = [12, 6, 24]\n",
    "d = 19\n",
    "\n",
    "def get_time_matrix(M, T):\n",
    "    r = []\n",
    "    for i in M:\n",
    "        tmp = []\n",
    "        for j in T:\n",
    "            tmp.append(j / i)\n",
    "        r.append(tmp)\n",
    "    return np.array(r)\n",
    "\n",
    "\n",
    "def get_cost_matrix(time_matrix, K):\n",
    "    m = []\n",
    "    for i in range(len(time_matrix)):\n",
    "        tmp = []\n",
    "        for j in time_matrix[i]:\n",
    "            tmp.append(K[i] * j)\n",
    "        m.append(tmp)\n",
    "    return m\n",
    "\n",
    "time_matrix = np.array(get_time_matrix(M, T))\n",
    "cost_matrix = np.array(get_cost_matrix(time_matrix, K))\n",
    "\n",
    "print(time_matrix)\n",
    "print(cost_matrix)\n",
    "\n",
    "n1  = np.shape(cost_matrix)[0]\n",
    "n2 = np.shape(cost_matrix)[1]"
   ]
  },
  {
   "cell_type": "code",
   "execution_count": 3,
   "metadata": {},
   "outputs": [],
   "source": [
    "def sample_most_likely(state_vector):\n",
    "    if isinstance(state_vector, (OrderedDict, dict)):\n",
    "        # get the binary string with the largest count\n",
    "        binary_string = sorted(state_vector.items(), key=lambda kv: kv[1])\n",
    "        print(binary_string)\n",
    "        repetitions = int(binary_string[-1][1])\n",
    "        binary_string = binary_string[-1][0]\n",
    "        x = np.asarray([int(y) for y in reversed(list(binary_string))])\n",
    "        return x, repetitions\n",
    "    return [], 0\n",
    "\n",
    "optimal_key = \"0000001000\"\n",
    "time_limit = 19\n",
    "\n",
    "def get_stats_for_result(dict_res):\n",
    "    optimal = 0\n",
    "    correct = 0\n",
    "    incorrect = 0\n",
    "    correct_config = 0\n",
    "    incorrect_config = 0\n",
    "     \n",
    "    if optimal_key in dict_res:\n",
    "        optimal = dict_res[optimal_key]\n",
    "    for key, val in dict_res.items():\n",
    "        if is_correct(key):\n",
    "            correct += val\n",
    "            correct_config += 1\n",
    "        else:\n",
    "            incorrect += val\n",
    "            incorrect_config += 1\n",
    "            \n",
    "    print('most likely solution: ',sample_most_likely(dict_res))      \n",
    "    print(\"optimal: \", optimal)\n",
    "    print(\"correct solutions: \", correct)\n",
    "    print(\"incorrect solutions: \", incorrect)\n",
    "    print(\"correct configs: \", correct_config)\n",
    "    print(\"incorrect configs: \", incorrect_config)\n",
    "\n",
    "def is_correct(key):\n",
    "    reversed_key = key[::-1]\n",
    "    if solution_vector_correct(reversed_key) and execution_time(reversed_key) <= time_limit:\n",
    "        return True\n",
    "    return False\n",
    "\n",
    "correct_machines = ['00', '01', '11']\n",
    "machine_to_index = {'00': 0, '01': 1, '11': 2}\n",
    "\n",
    "def execution_time(k):\n",
    "    slack_sum = int(k[6]) * 8 + int(k[7]) * 4 + int(k[8]) * 2 + int(k[9]) * 1\n",
    "    \n",
    "    task1_machine = machine_to_index.get(k[0:2])\n",
    "    task2_machine = machine_to_index.get(k[2:4])\n",
    "    task3_machine = machine_to_index.get(k[4:6])\n",
    "    \n",
    "    # for vector \"10\" (the only incorrect one), assign sum of all machines times for task\n",
    "    task_time_sum =  np.sum(time_matrix, axis=0) \n",
    "    task1_time = task_time_sum[0] if task1_machine == None else time_matrix[task1_machine, 0]\n",
    "    task2_time = task_time_sum[1] if task2_machine == None else time_matrix[task2_machine, 1]\n",
    "    task3_time = task_time_sum[2] if task3_machine == None else time_matrix[task3_machine, 2]\n",
    "    \n",
    "    return slack_sum + task1_time + task2_time + task3_time\n",
    "    \n",
    "def solution_vector_correct(vector):\n",
    "    task1_machine = vector[0:2]\n",
    "    task2_machine = vector[2:4]\n",
    "    task3_machine = vector[4:6]\n",
    "\n",
    "    if task1_machine in correct_machines and task2_machine in correct_machines and task3_machine in correct_machines:\n",
    "        return True\n",
    "    return False"
   ]
  },
  {
   "cell_type": "code",
   "execution_count": 9,
   "metadata": {
    "scrolled": true
   },
   "outputs": [
    {
     "data": {
      "text/plain": [
       "array([ 8.,  4., 16.])"
      ]
     },
     "execution_count": 9,
     "metadata": {},
     "output_type": "execute_result"
    }
   ],
   "source": [
    "cost_matrix[2, :]"
   ]
  },
  {
   "cell_type": "code",
   "execution_count": 16,
   "metadata": {},
   "outputs": [
    {
     "data": {
      "text/plain": [
       "16.0"
      ]
     },
     "execution_count": 16,
     "metadata": {},
     "output_type": "execute_result"
    }
   ],
   "source": [
    "cost_matrix[2, 2]"
   ]
  },
  {
   "cell_type": "code",
   "execution_count": null,
   "metadata": {},
   "outputs": [],
   "source": [
    "# Minimalizacja kosztu\n",
    "def getMdl(A,B,C):\n",
    "    mdl = Model(name='workflow1')\n",
    "    x = {(i, j) : mdl.binary_var(name='x_{0}_{1}'.format(i, j)) for i in range(0, 3) for j in range(0, 2)}\n",
    "    x.update({i : mdl.binary_var(name='x_{0}'.format(i)) for i in range(7, 11)})\n",
    "    \n",
    "    objective = A * mdl.sum(\n",
    "          cost_matrix[2, i] * (1 - x[(i, 0)]) * (1 - x[(i, 1)])\n",
    "        + cost_matrix[1, i] * (1 - x[(i, 0)]) * x[(i, 1)]\n",
    "        + cost_matrix[0, i] * x[(i, 0)] * (1 - x[(i, 1)])\n",
    "        for i in range(0, 3)\n",
    "    )\n",
    "    \n",
    "    mdl.add_constraint(B * mdl.sum(x[(i, 0)] * x[(i, 1)] for i in range(0, 3)) == 0)\n",
    "\n",
    "    mdl.add_constraint(C * (\n",
    "        mdl.sum([\n",
    "              time_matrix[2, i] * (1 - x[(i, 0)]) * (1 - x[(i, 1)])\n",
    "            + time_matrix[1, i] * (1 - x[(i, 0)]) * x[(i, 1)]\n",
    "            + time_matrix[0, i] * x[(i, 0)] * (1 - x[(i, 1)])\n",
    "            for i in range(0, 3)\n",
    "        ]) \n",
    "        + (8 * x[7] + 4 * x[8] + 2 * x[9] + x[10])\n",
    "    ) == C * d)\n",
    "    \n",
    "    mdl.minimize(objective)\n",
    "    H, _ = docplex.get_operator(mdl)\n",
    "    return H"
   ]
  },
  {
   "cell_type": "code",
   "execution_count": 9,
   "metadata": {},
   "outputs": [
    {
     "name": "stdout",
     "output_type": "stream",
     "text": [
      "[-1121.25+0.j -1118.25+0.j -1117.25+0.j -1117.25+0.j -1115.25+0.j]\n",
      "{'1010111111': 1.0}\n",
      "{'0010110111': 1.0}\n",
      "{'1010110011': 1.0}\n",
      "{'0110111011': 1.0}\n",
      "{'1100111101': 1.0}\n"
     ]
    }
   ],
   "source": [
    "write_to_file = False\n",
    "filename = 'results.txt'\n",
    "\n",
    "seed = 123569\n",
    "aqua_globals.random_seed = seed\n",
    "entanglement='full'\n",
    "\n",
    "reps = 2\n",
    "max_trials = 1000\n",
    "shots = 100\n",
    "\n",
    "A = 1\n",
    "B = 20\n",
    "C = 1\n",
    "\n",
    "qubitOp = getMdl(A, B, C)\n",
    "\n",
    "\n",
    "def compute_eigenvalues():\n",
    "    from qiskit.aqua.algorithms import NumPyEigensolver\n",
    "    count = 5\n",
    "    eigensolver = NumPyEigensolver(qubitOp, count)\n",
    "    eigensolver_result = eigensolver.compute_eigenvalues()\n",
    "    print(eigensolver_result.eigenvalues)\n",
    "    for eigenstate in eigensolver_result.eigenstates:\n",
    "        print(eigenstate.sample())\n",
    "\n",
    "compute_eigenvalues()\n",
    "\n",
    "\n",
    "# spsa = SPSA(maxiter=max_trials)\n",
    "# ry = RealAmplitudes(qubitOp.num_qubits, reps=reps, entanglement=entanglement)\n",
    "# vqe = VQE(qubitOp, ry, spsa)\n",
    "# # provider= IBMQ.get_provider('ibm-q')\n",
    "# backend = Aer.get_backend('qasm_simulator')\n",
    "# quantum_instance = QuantumInstance(backend,seed_simulator=seed, seed_transpiler=seed, shots=shots)\n",
    "# result = vqe.run(quantum_instance)   \n",
    "# state_vector = result['eigenstate']\n",
    "# get_stats_for_result(state_vector)"
   ]
  },
  {
   "cell_type": "code",
   "execution_count": 6,
   "metadata": {},
   "outputs": [],
   "source": [
    "# vqe.get_optimal_circuit().draw()"
   ]
  },
  {
   "cell_type": "code",
   "execution_count": 7,
   "metadata": {},
   "outputs": [
    {
     "data": {
      "text/plain": [
       "-968.4800000000004"
      ]
     },
     "execution_count": 7,
     "metadata": {},
     "output_type": "execute_result"
    }
   ],
   "source": [
    "vqe.get_optimal_cost()"
   ]
  },
  {
   "cell_type": "code",
   "execution_count": 8,
   "metadata": {
    "scrolled": true
   },
   "outputs": [
    {
     "data": {
      "text/plain": [
       "{'0100000001': 10,\n",
       " '0100000011': 1,\n",
       " '0100000100': 14,\n",
       " '0100000110': 1,\n",
       " '0100000111': 7,\n",
       " '0100001001': 2,\n",
       " '0100001011': 2,\n",
       " '0100001100': 1,\n",
       " '0100001111': 3,\n",
       " '0100010000': 1,\n",
       " '0100010001': 2,\n",
       " '0100010011': 1,\n",
       " '0100010100': 6,\n",
       " '0100010111': 2,\n",
       " '0100011000': 1,\n",
       " '0100011100': 1,\n",
       " '0100011101': 1,\n",
       " '0101101000': 4,\n",
       " '0101101001': 1,\n",
       " '0101101111': 2,\n",
       " '1000011001': 1,\n",
       " '1100000111': 2,\n",
       " '1100001001': 1,\n",
       " '1110000001': 1,\n",
       " '1110000100': 1,\n",
       " '1110001001': 1,\n",
       " '1110001011': 1,\n",
       " '0001101000': 3,\n",
       " '0001101001': 3,\n",
       " '0001101010': 1,\n",
       " '0001101011': 1,\n",
       " '0001101100': 1,\n",
       " '0001101111': 7,\n",
       " '0011101000': 5,\n",
       " '0011101001': 2,\n",
       " '0011101111': 6}"
      ]
     },
     "execution_count": 8,
     "metadata": {},
     "output_type": "execute_result"
    }
   ],
   "source": [
    "vqe.get_optimal_vector()"
   ]
  },
  {
   "cell_type": "code",
   "execution_count": null,
   "metadata": {},
   "outputs": [],
   "source": []
  },
  {
   "cell_type": "code",
   "execution_count": null,
   "metadata": {},
   "outputs": [],
   "source": []
  }
 ],
 "metadata": {
  "kernelspec": {
   "display_name": "Python 3",
   "language": "python",
   "name": "python3"
  },
  "language_info": {
   "codemirror_mode": {
    "name": "ipython",
    "version": 3
   },
   "file_extension": ".py",
   "mimetype": "text/x-python",
   "name": "python",
   "nbconvert_exporter": "python",
   "pygments_lexer": "ipython3",
   "version": "3.6.9"
  }
 },
 "nbformat": 4,
 "nbformat_minor": 4
}
